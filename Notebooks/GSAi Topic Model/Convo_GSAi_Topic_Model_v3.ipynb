{
 "cells": [
  {
   "cell_type": "code",
   "execution_count": 1,
   "id": "7d75c87d",
   "metadata": {},
   "outputs": [],
   "source": [
    "# Topic Model for GSAi Prompt and Response Data using data from 3/14-3/31\n",
    "# Purpose: Build a topic model that will help us uncover topics in both user prompts and assistant responses that may have been missed in the AI safety teams topic log\n",
    "# MOD: This is a Convo version meaning the user and assistant prompts are consolidated by the ID\n",
    "# MOD: This also applies bigram/trigram function to topic model\n",
    "# Using only LDAvis, 5, 10, 15, 20 topics \n",
    "# Author: Kai Cobb\n",
    "# Last updated: 04/07/2025 "
   ]
  },
  {
   "cell_type": "code",
   "execution_count": 2,
   "id": "8984a3dc",
   "metadata": {},
   "outputs": [
    {
     "name": "stdout",
     "output_type": "stream",
     "text": [
      "Requirement already satisfied: pandas in d:\\users\\kaiecobb\\.conda\\envs\\cxenv\\lib\\site-packages (2.2.0)\n",
      "Requirement already satisfied: numpy in d:\\users\\kaiecobb\\.conda\\envs\\cxenv\\lib\\site-packages (1.26.4)\n",
      "Requirement already satisfied: spacy in d:\\users\\kaiecobb\\.conda\\envs\\cxenv\\lib\\site-packages (3.7.4)\n",
      "Requirement already satisfied: nltk in d:\\users\\kaiecobb\\.conda\\envs\\cxenv\\lib\\site-packages (3.8.1)\n",
      "Requirement already satisfied: sentence-transformers in d:\\users\\kaiecobb\\.conda\\envs\\cxenv\\lib\\site-packages (4.0.1)\n",
      "Requirement already satisfied: bertopic in d:\\users\\kaiecobb\\.conda\\envs\\cxenv\\lib\\site-packages (0.17.0)\n",
      "Requirement already satisfied: gensim in d:\\users\\kaiecobb\\.conda\\envs\\cxenv\\lib\\site-packages (4.3.2)\n",
      "Requirement already satisfied: pyLDAvis in d:\\users\\kaiecobb\\.conda\\envs\\cxenv\\lib\\site-packages (3.4.1)\n",
      "Requirement already satisfied: scikit-learn in d:\\users\\kaiecobb\\.conda\\envs\\cxenv\\lib\\site-packages (1.4.1.post1)\n",
      "Requirement already satisfied: python-dateutil>=2.8.2 in d:\\users\\kaiecobb\\.conda\\envs\\cxenv\\lib\\site-packages (from pandas) (2.8.2)\n",
      "Requirement already satisfied: pytz>=2020.1 in d:\\users\\kaiecobb\\.conda\\envs\\cxenv\\lib\\site-packages (from pandas) (2024.1)\n",
      "Requirement already satisfied: tzdata>=2022.7 in d:\\users\\kaiecobb\\.conda\\envs\\cxenv\\lib\\site-packages (from pandas) (2024.1)\n",
      "Requirement already satisfied: spacy-legacy<3.1.0,>=3.0.11 in d:\\users\\kaiecobb\\.conda\\envs\\cxenv\\lib\\site-packages (from spacy) (3.0.12)\n",
      "Requirement already satisfied: spacy-loggers<2.0.0,>=1.0.0 in d:\\users\\kaiecobb\\.conda\\envs\\cxenv\\lib\\site-packages (from spacy) (1.0.5)\n",
      "Requirement already satisfied: murmurhash<1.1.0,>=0.28.0 in d:\\users\\kaiecobb\\.conda\\envs\\cxenv\\lib\\site-packages (from spacy) (1.0.10)\n",
      "Requirement already satisfied: cymem<2.1.0,>=2.0.2 in d:\\users\\kaiecobb\\.conda\\envs\\cxenv\\lib\\site-packages (from spacy) (2.0.8)\n",
      "Requirement already satisfied: preshed<3.1.0,>=3.0.2 in d:\\users\\kaiecobb\\.conda\\envs\\cxenv\\lib\\site-packages (from spacy) (3.0.9)\n",
      "Requirement already satisfied: thinc<8.3.0,>=8.2.2 in d:\\users\\kaiecobb\\.conda\\envs\\cxenv\\lib\\site-packages (from spacy) (8.2.3)\n",
      "Requirement already satisfied: wasabi<1.2.0,>=0.9.1 in d:\\users\\kaiecobb\\.conda\\envs\\cxenv\\lib\\site-packages (from spacy) (1.1.2)\n",
      "Requirement already satisfied: srsly<3.0.0,>=2.4.3 in d:\\users\\kaiecobb\\.conda\\envs\\cxenv\\lib\\site-packages (from spacy) (2.4.8)\n",
      "Requirement already satisfied: catalogue<2.1.0,>=2.0.6 in d:\\users\\kaiecobb\\.conda\\envs\\cxenv\\lib\\site-packages (from spacy) (2.0.10)\n",
      "Requirement already satisfied: weasel<0.4.0,>=0.1.0 in d:\\users\\kaiecobb\\.conda\\envs\\cxenv\\lib\\site-packages (from spacy) (0.3.4)\n",
      "Requirement already satisfied: typer<0.10.0,>=0.3.0 in d:\\users\\kaiecobb\\.conda\\envs\\cxenv\\lib\\site-packages (from spacy) (0.9.0)\n",
      "Requirement already satisfied: smart-open<7.0.0,>=5.2.1 in d:\\users\\kaiecobb\\.conda\\envs\\cxenv\\lib\\site-packages (from spacy) (6.4.0)\n",
      "Requirement already satisfied: tqdm<5.0.0,>=4.38.0 in d:\\users\\kaiecobb\\.conda\\envs\\cxenv\\lib\\site-packages (from spacy) (4.66.2)\n",
      "Requirement already satisfied: requests<3.0.0,>=2.13.0 in d:\\users\\kaiecobb\\.conda\\envs\\cxenv\\lib\\site-packages (from spacy) (2.31.0)\n",
      "Requirement already satisfied: pydantic!=1.8,!=1.8.1,<3.0.0,>=1.7.4 in d:\\users\\kaiecobb\\.conda\\envs\\cxenv\\lib\\site-packages (from spacy) (2.6.1)\n",
      "Requirement already satisfied: jinja2 in d:\\users\\kaiecobb\\.conda\\envs\\cxenv\\lib\\site-packages (from spacy) (3.1.3)\n",
      "Requirement already satisfied: setuptools in d:\\users\\kaiecobb\\.conda\\envs\\cxenv\\lib\\site-packages (from spacy) (68.2.2)\n",
      "Requirement already satisfied: packaging>=20.0 in d:\\users\\kaiecobb\\.conda\\envs\\cxenv\\lib\\site-packages (from spacy) (23.2)\n",
      "Requirement already satisfied: langcodes<4.0.0,>=3.2.0 in d:\\users\\kaiecobb\\.conda\\envs\\cxenv\\lib\\site-packages (from spacy) (3.3.0)\n",
      "Requirement already satisfied: click in d:\\users\\kaiecobb\\.conda\\envs\\cxenv\\lib\\site-packages (from nltk) (8.1.7)\n",
      "Requirement already satisfied: joblib in d:\\users\\kaiecobb\\.conda\\envs\\cxenv\\lib\\site-packages (from nltk) (1.3.2)\n",
      "Requirement already satisfied: regex>=2021.8.3 in d:\\users\\kaiecobb\\.conda\\envs\\cxenv\\lib\\site-packages (from nltk) (2023.12.25)\n",
      "Requirement already satisfied: transformers<5.0.0,>=4.41.0 in d:\\users\\kaiecobb\\.conda\\envs\\cxenv\\lib\\site-packages (from sentence-transformers) (4.45.1)\n",
      "Requirement already satisfied: torch>=1.11.0 in d:\\users\\kaiecobb\\.conda\\envs\\cxenv\\lib\\site-packages (from sentence-transformers) (2.6.0)\n",
      "Requirement already satisfied: scipy in d:\\users\\kaiecobb\\.conda\\envs\\cxenv\\lib\\site-packages (from sentence-transformers) (1.12.0)\n",
      "Requirement already satisfied: huggingface-hub>=0.20.0 in d:\\users\\kaiecobb\\.conda\\envs\\cxenv\\lib\\site-packages (from sentence-transformers) (0.25.1)\n",
      "Requirement already satisfied: Pillow in d:\\users\\kaiecobb\\.conda\\envs\\cxenv\\lib\\site-packages (from sentence-transformers) (10.2.0)\n",
      "Requirement already satisfied: typing_extensions>=4.5.0 in d:\\users\\kaiecobb\\.conda\\envs\\cxenv\\lib\\site-packages (from sentence-transformers) (4.12.2)\n",
      "Requirement already satisfied: hdbscan>=0.8.29 in d:\\users\\kaiecobb\\.conda\\envs\\cxenv\\lib\\site-packages (from bertopic) (0.8.40)\n",
      "Requirement already satisfied: plotly>=4.7.0 in d:\\users\\kaiecobb\\.conda\\envs\\cxenv\\lib\\site-packages (from bertopic) (6.0.1)\n",
      "Requirement already satisfied: umap-learn>=0.5.0 in d:\\users\\kaiecobb\\.conda\\envs\\cxenv\\lib\\site-packages (from bertopic) (0.5.7)\n",
      "Requirement already satisfied: numexpr in d:\\users\\kaiecobb\\.conda\\envs\\cxenv\\lib\\site-packages (from pyLDAvis) (2.9.0)\n",
      "Requirement already satisfied: funcy in d:\\users\\kaiecobb\\.conda\\envs\\cxenv\\lib\\site-packages (from pyLDAvis) (2.0)\n",
      "Requirement already satisfied: threadpoolctl>=2.0.0 in d:\\users\\kaiecobb\\.conda\\envs\\cxenv\\lib\\site-packages (from scikit-learn) (3.3.0)\n",
      "Requirement already satisfied: filelock in d:\\users\\kaiecobb\\.conda\\envs\\cxenv\\lib\\site-packages (from huggingface-hub>=0.20.0->sentence-transformers) (3.16.1)\n",
      "Requirement already satisfied: fsspec>=2023.5.0 in d:\\users\\kaiecobb\\.conda\\envs\\cxenv\\lib\\site-packages (from huggingface-hub>=0.20.0->sentence-transformers) (2024.9.0)\n",
      "Requirement already satisfied: pyyaml>=5.1 in d:\\users\\kaiecobb\\.conda\\envs\\cxenv\\lib\\site-packages (from huggingface-hub>=0.20.0->sentence-transformers) (6.0.1)\n",
      "Requirement already satisfied: narwhals>=1.15.1 in d:\\users\\kaiecobb\\.conda\\envs\\cxenv\\lib\\site-packages (from plotly>=4.7.0->bertopic) (1.32.0)\n",
      "Requirement already satisfied: annotated-types>=0.4.0 in d:\\users\\kaiecobb\\.conda\\envs\\cxenv\\lib\\site-packages (from pydantic!=1.8,!=1.8.1,<3.0.0,>=1.7.4->spacy) (0.6.0)\n",
      "Requirement already satisfied: pydantic-core==2.16.2 in d:\\users\\kaiecobb\\.conda\\envs\\cxenv\\lib\\site-packages (from pydantic!=1.8,!=1.8.1,<3.0.0,>=1.7.4->spacy) (2.16.2)\n",
      "Requirement already satisfied: six>=1.5 in d:\\users\\kaiecobb\\.conda\\envs\\cxenv\\lib\\site-packages (from python-dateutil>=2.8.2->pandas) (1.16.0)\n",
      "Requirement already satisfied: charset-normalizer<4,>=2 in d:\\users\\kaiecobb\\.conda\\envs\\cxenv\\lib\\site-packages (from requests<3.0.0,>=2.13.0->spacy) (3.3.2)\n",
      "Requirement already satisfied: idna<4,>=2.5 in d:\\users\\kaiecobb\\.conda\\envs\\cxenv\\lib\\site-packages (from requests<3.0.0,>=2.13.0->spacy) (3.6)\n",
      "Requirement already satisfied: urllib3<3,>=1.21.1 in d:\\users\\kaiecobb\\.conda\\envs\\cxenv\\lib\\site-packages (from requests<3.0.0,>=2.13.0->spacy) (2.2.1)\n",
      "Requirement already satisfied: certifi>=2017.4.17 in d:\\users\\kaiecobb\\.conda\\envs\\cxenv\\lib\\site-packages (from requests<3.0.0,>=2.13.0->spacy) (2024.2.2)\n",
      "Requirement already satisfied: blis<0.8.0,>=0.7.8 in d:\\users\\kaiecobb\\.conda\\envs\\cxenv\\lib\\site-packages (from thinc<8.3.0,>=8.2.2->spacy) (0.7.11)\n",
      "Requirement already satisfied: confection<1.0.0,>=0.0.1 in d:\\users\\kaiecobb\\.conda\\envs\\cxenv\\lib\\site-packages (from thinc<8.3.0,>=8.2.2->spacy) (0.1.4)\n",
      "Requirement already satisfied: networkx in d:\\users\\kaiecobb\\.conda\\envs\\cxenv\\lib\\site-packages (from torch>=1.11.0->sentence-transformers) (3.2.1)\n",
      "Requirement already satisfied: sympy==1.13.1 in d:\\users\\kaiecobb\\.conda\\envs\\cxenv\\lib\\site-packages (from torch>=1.11.0->sentence-transformers) (1.13.1)\n",
      "Requirement already satisfied: mpmath<1.4,>=1.1.0 in d:\\users\\kaiecobb\\.conda\\envs\\cxenv\\lib\\site-packages (from sympy==1.13.1->torch>=1.11.0->sentence-transformers) (1.3.0)\n",
      "Requirement already satisfied: colorama in d:\\users\\kaiecobb\\.conda\\envs\\cxenv\\lib\\site-packages (from tqdm<5.0.0,>=4.38.0->spacy) (0.4.6)\n",
      "Requirement already satisfied: safetensors>=0.4.1 in d:\\users\\kaiecobb\\.conda\\envs\\cxenv\\lib\\site-packages (from transformers<5.0.0,>=4.41.0->sentence-transformers) (0.4.5)\n",
      "Requirement already satisfied: tokenizers<0.21,>=0.20 in d:\\users\\kaiecobb\\.conda\\envs\\cxenv\\lib\\site-packages (from transformers<5.0.0,>=4.41.0->sentence-transformers) (0.20.0)\n",
      "Requirement already satisfied: numba>=0.51.2 in d:\\users\\kaiecobb\\.conda\\envs\\cxenv\\lib\\site-packages (from umap-learn>=0.5.0->bertopic) (0.60.0)\n",
      "Requirement already satisfied: pynndescent>=0.5 in d:\\users\\kaiecobb\\.conda\\envs\\cxenv\\lib\\site-packages (from umap-learn>=0.5.0->bertopic) (0.5.13)\n",
      "Requirement already satisfied: cloudpathlib<0.17.0,>=0.7.0 in d:\\users\\kaiecobb\\.conda\\envs\\cxenv\\lib\\site-packages (from weasel<0.4.0,>=0.1.0->spacy) (0.16.0)\n",
      "Requirement already satisfied: MarkupSafe>=2.0 in d:\\users\\kaiecobb\\.conda\\envs\\cxenv\\lib\\site-packages (from jinja2->spacy) (2.1.5)\n",
      "Requirement already satisfied: llvmlite<0.44,>=0.43.0dev0 in d:\\users\\kaiecobb\\.conda\\envs\\cxenv\\lib\\site-packages (from numba>=0.51.2->umap-learn>=0.5.0->bertopic) (0.43.0)\n"
     ]
    },
    {
     "name": "stderr",
     "output_type": "stream",
     "text": [
      "[nltk_data] Downloading package stopwords to\n",
      "[nltk_data]     D:\\Users\\kaiecobb\\AppData\\Roaming\\nltk_data...\n",
      "[nltk_data]   Package stopwords is already up-to-date!\n",
      "[nltk_data] Downloading package wordnet to\n",
      "[nltk_data]     D:\\Users\\kaiecobb\\AppData\\Roaming\\nltk_data...\n",
      "[nltk_data]   Package wordnet is already up-to-date!\n"
     ]
    }
   ],
   "source": [
    "\n",
    "\n",
    "!pip install pandas numpy spacy nltk sentence-transformers bertopic gensim pyLDAvis scikit-learn\n",
    "\n",
    "import re\n",
    "import pandas as pd\n",
    "import numpy as np\n",
    "import spacy\n",
    "import nltk\n",
    "import json\n",
    "import gensim\n",
    "import pyLDAvis.gensim_models as gensimvis\n",
    "import matplotlib.pyplot as plt\n",
    "from nltk.corpus import stopwords\n",
    "from gensim.models.ldamodel import LdaModel\n",
    "from gensim.models import CoherenceModel\n",
    "from gensim.corpora import Dictionary\n",
    "from collections import Counter\n",
    "from wordcloud import WordCloud\n",
    "from nltk.util import ngrams\n",
    "import datetime\n",
    "\n",
    "# Download stopwords if not already downloaded\n",
    "nltk.download('stopwords')\n",
    "nltk.download('wordnet')\n",
    "\n",
    "# Load English NLP model for lemmatization\n",
    "nlp = spacy.load(\"en_core_web_sm\", disable=[\"parser\", \"ner\"])\n",
    "\n",
    "# Load stopwords\n",
    "stop_words = set(stopwords.words(\"english\"))"
   ]
  },
  {
   "cell_type": "code",
   "execution_count": 3,
   "id": "8d4e48ad",
   "metadata": {},
   "outputs": [],
   "source": [
    "import warnings\n",
    "warnings.filterwarnings(\"ignore\", category=DeprecationWarning)\n",
    "\n",
    "#IMPORT TQDM FOR RUNNING PROGRESS#\n",
    "from tqdm import tqdm"
   ]
  },
  {
   "cell_type": "code",
   "execution_count": 4,
   "id": "d68129fe",
   "metadata": {},
   "outputs": [],
   "source": [
    "##################################\n",
    "# ---- Step 1:Load the Data ---- #\n",
    "##################################"
   ]
  },
  {
   "cell_type": "code",
   "execution_count": 5,
   "id": "5b40c5ec",
   "metadata": {},
   "outputs": [
    {
     "name": "stdout",
     "output_type": "stream",
     "text": [
      "<class 'pandas.core.frame.DataFrame'>\n",
      "RangeIndex: 46574 entries, 0 to 46573\n",
      "Data columns (total 10 columns):\n",
      " #   Column       Non-Null Count  Dtype         \n",
      "---  ------       --------------  -----         \n",
      " 0   role         46574 non-null  object        \n",
      " 1   content      46535 non-null  object        \n",
      " 2   id           46574 non-null  object        \n",
      " 3   modelId      46574 non-null  object        \n",
      " 4   timestamp    46574 non-null  datetime64[ns]\n",
      " 5   day_of_week  46574 non-null  object        \n",
      " 6   hour         46574 non-null  int64         \n",
      " 7   month        46574 non-null  int64         \n",
      " 8   day          46574 non-null  int64         \n",
      " 9   year         46574 non-null  int64         \n",
      "dtypes: datetime64[ns](1), int64(4), object(5)\n",
      "memory usage: 3.6+ MB\n",
      "None\n",
      "                           timestamp          hour    month           day  \\\n",
      "count                          46574  46574.000000  46574.0  46574.000000   \n",
      "mean   2025-03-24 12:12:04.103340800     16.067699      3.0     23.817860   \n",
      "min              2025-03-16 20:51:18      0.000000      3.0     16.000000   \n",
      "25%       2025-03-21 14:04:11.500000     14.000000      3.0     21.000000   \n",
      "50%              2025-03-24 20:08:24     16.000000      3.0     24.000000   \n",
      "75%              2025-03-27 13:20:24     19.000000      3.0     27.000000   \n",
      "max              2025-03-31 18:55:01     23.000000      3.0     31.000000   \n",
      "std                              NaN      3.928460      0.0      3.646225   \n",
      "\n",
      "               year  \n",
      "count  46574.000000  \n",
      "mean      23.817860  \n",
      "min       16.000000  \n",
      "25%       21.000000  \n",
      "50%       24.000000  \n",
      "75%       27.000000  \n",
      "max       31.000000  \n",
      "std        3.646225  \n"
     ]
    },
    {
     "data": {
      "text/html": [
       "<div>\n",
       "<style scoped>\n",
       "    .dataframe tbody tr th:only-of-type {\n",
       "        vertical-align: middle;\n",
       "    }\n",
       "\n",
       "    .dataframe tbody tr th {\n",
       "        vertical-align: top;\n",
       "    }\n",
       "\n",
       "    .dataframe thead th {\n",
       "        text-align: right;\n",
       "    }\n",
       "</style>\n",
       "<table border=\"1\" class=\"dataframe\">\n",
       "  <thead>\n",
       "    <tr style=\"text-align: right;\">\n",
       "      <th></th>\n",
       "      <th>role</th>\n",
       "      <th>content</th>\n",
       "      <th>id</th>\n",
       "      <th>modelId</th>\n",
       "      <th>timestamp</th>\n",
       "      <th>day_of_week</th>\n",
       "      <th>hour</th>\n",
       "      <th>month</th>\n",
       "      <th>day</th>\n",
       "      <th>year</th>\n",
       "    </tr>\n",
       "  </thead>\n",
       "  <tbody>\n",
       "    <tr>\n",
       "      <th>0</th>\n",
       "      <td>user</td>\n",
       "      <td>I’m back. Thought of a new question/ use for you.</td>\n",
       "      <td>3886157475915644557375277560587615494206680964...</td>\n",
       "      <td>us.anthropic.claude-3-5-haiku-20241022-v1:0</td>\n",
       "      <td>2025-03-22 03:14:41</td>\n",
       "      <td>Saturday</td>\n",
       "      <td>3</td>\n",
       "      <td>3</td>\n",
       "      <td>22</td>\n",
       "      <td>22</td>\n",
       "    </tr>\n",
       "    <tr>\n",
       "      <th>1</th>\n",
       "      <td>assistant</td>\n",
       "      <td>Great! I'm ready to help you. What question or...</td>\n",
       "      <td>3886157475915644557375277560587615494206680964...</td>\n",
       "      <td>us.anthropic.claude-3-5-haiku-20241022-v1:0</td>\n",
       "      <td>2025-03-22 03:14:41</td>\n",
       "      <td>Saturday</td>\n",
       "      <td>3</td>\n",
       "      <td>3</td>\n",
       "      <td>22</td>\n",
       "      <td>22</td>\n",
       "    </tr>\n",
       "    <tr>\n",
       "      <th>2</th>\n",
       "      <td>user</td>\n",
       "      <td>Can you make a basic Gnatt chart?</td>\n",
       "      <td>3886157475915644557375277560587615494206680964...</td>\n",
       "      <td>us.anthropic.claude-3-5-haiku-20241022-v1:0</td>\n",
       "      <td>2025-03-22 03:14:41</td>\n",
       "      <td>Saturday</td>\n",
       "      <td>3</td>\n",
       "      <td>3</td>\n",
       "      <td>22</td>\n",
       "      <td>22</td>\n",
       "    </tr>\n",
       "    <tr>\n",
       "      <th>3</th>\n",
       "      <td>assistant</td>\n",
       "      <td>I can help you understand Gantt charts and pro...</td>\n",
       "      <td>3886157475915644557375277560587615494206680964...</td>\n",
       "      <td>us.anthropic.claude-3-5-haiku-20241022-v1:0</td>\n",
       "      <td>2025-03-22 03:14:41</td>\n",
       "      <td>Saturday</td>\n",
       "      <td>3</td>\n",
       "      <td>3</td>\n",
       "      <td>22</td>\n",
       "      <td>22</td>\n",
       "    </tr>\n",
       "    <tr>\n",
       "      <th>4</th>\n",
       "      <td>user</td>\n",
       "      <td>Then we must invent a new way to track a proje...</td>\n",
       "      <td>3886157475915644557375277560587615494206680964...</td>\n",
       "      <td>us.anthropic.claude-3-5-haiku-20241022-v1:0</td>\n",
       "      <td>2025-03-22 03:14:41</td>\n",
       "      <td>Saturday</td>\n",
       "      <td>3</td>\n",
       "      <td>3</td>\n",
       "      <td>22</td>\n",
       "      <td>22</td>\n",
       "    </tr>\n",
       "    <tr>\n",
       "      <th>...</th>\n",
       "      <td>...</td>\n",
       "      <td>...</td>\n",
       "      <td>...</td>\n",
       "      <td>...</td>\n",
       "      <td>...</td>\n",
       "      <td>...</td>\n",
       "      <td>...</td>\n",
       "      <td>...</td>\n",
       "      <td>...</td>\n",
       "      <td>...</td>\n",
       "    </tr>\n",
       "    <tr>\n",
       "      <th>46569</th>\n",
       "      <td>assistant</td>\n",
       "      <td>I apologize, but I cannot draft an email about...</td>\n",
       "      <td>3887331378222597129965262380407785637823496147...</td>\n",
       "      <td>us.anthropic.claude-3-5-haiku-20241022-v1:0</td>\n",
       "      <td>2025-03-28 05:27:57</td>\n",
       "      <td>Friday</td>\n",
       "      <td>5</td>\n",
       "      <td>3</td>\n",
       "      <td>28</td>\n",
       "      <td>28</td>\n",
       "    </tr>\n",
       "    <tr>\n",
       "      <th>46570</th>\n",
       "      <td>assistant</td>\n",
       "      <td>Here's a draft email template for requesting l...</td>\n",
       "      <td>3887331378222597129965262380407785637823496147...</td>\n",
       "      <td>us.anthropic.claude-3-5-haiku-20241022-v1:0</td>\n",
       "      <td>2025-03-28 05:27:57</td>\n",
       "      <td>Friday</td>\n",
       "      <td>5</td>\n",
       "      <td>3</td>\n",
       "      <td>28</td>\n",
       "      <td>28</td>\n",
       "    </tr>\n",
       "    <tr>\n",
       "      <th>46571</th>\n",
       "      <td>user</td>\n",
       "      <td>This is good</td>\n",
       "      <td>3887331378222597129965262380407785637823496147...</td>\n",
       "      <td>us.anthropic.claude-3-5-haiku-20241022-v1:0</td>\n",
       "      <td>2025-03-28 05:27:57</td>\n",
       "      <td>Friday</td>\n",
       "      <td>5</td>\n",
       "      <td>3</td>\n",
       "      <td>28</td>\n",
       "      <td>28</td>\n",
       "    </tr>\n",
       "    <tr>\n",
       "      <th>46572</th>\n",
       "      <td>assistant</td>\n",
       "      <td>Excellent. Please go ahead and personalize the...</td>\n",
       "      <td>3887331378222597129965262380407785637823496147...</td>\n",
       "      <td>us.anthropic.claude-3-5-haiku-20241022-v1:0</td>\n",
       "      <td>2025-03-28 05:27:57</td>\n",
       "      <td>Friday</td>\n",
       "      <td>5</td>\n",
       "      <td>3</td>\n",
       "      <td>28</td>\n",
       "      <td>28</td>\n",
       "    </tr>\n",
       "    <tr>\n",
       "      <th>46573</th>\n",
       "      <td>user</td>\n",
       "      <td>Does the NIST Metaschema specification state i...</td>\n",
       "      <td>3887327899306346159188052113449699114660869750...</td>\n",
       "      <td>us.anthropic.claude-3-5-haiku-20241022-v1:0</td>\n",
       "      <td>2025-03-28 05:01:57</td>\n",
       "      <td>Friday</td>\n",
       "      <td>5</td>\n",
       "      <td>3</td>\n",
       "      <td>28</td>\n",
       "      <td>28</td>\n",
       "    </tr>\n",
       "  </tbody>\n",
       "</table>\n",
       "<p>46574 rows × 10 columns</p>\n",
       "</div>"
      ],
      "text/plain": [
       "            role                                            content  \\\n",
       "0           user  I’m back. Thought of a new question/ use for you.   \n",
       "1      assistant  Great! I'm ready to help you. What question or...   \n",
       "2           user                  Can you make a basic Gnatt chart?   \n",
       "3      assistant  I can help you understand Gantt charts and pro...   \n",
       "4           user  Then we must invent a new way to track a proje...   \n",
       "...          ...                                                ...   \n",
       "46569  assistant  I apologize, but I cannot draft an email about...   \n",
       "46570  assistant  Here's a draft email template for requesting l...   \n",
       "46571       user                                       This is good   \n",
       "46572  assistant  Excellent. Please go ahead and personalize the...   \n",
       "46573       user  Does the NIST Metaschema specification state i...   \n",
       "\n",
       "                                                      id  \\\n",
       "0      3886157475915644557375277560587615494206680964...   \n",
       "1      3886157475915644557375277560587615494206680964...   \n",
       "2      3886157475915644557375277560587615494206680964...   \n",
       "3      3886157475915644557375277560587615494206680964...   \n",
       "4      3886157475915644557375277560587615494206680964...   \n",
       "...                                                  ...   \n",
       "46569  3887331378222597129965262380407785637823496147...   \n",
       "46570  3887331378222597129965262380407785637823496147...   \n",
       "46571  3887331378222597129965262380407785637823496147...   \n",
       "46572  3887331378222597129965262380407785637823496147...   \n",
       "46573  3887327899306346159188052113449699114660869750...   \n",
       "\n",
       "                                           modelId           timestamp  \\\n",
       "0      us.anthropic.claude-3-5-haiku-20241022-v1:0 2025-03-22 03:14:41   \n",
       "1      us.anthropic.claude-3-5-haiku-20241022-v1:0 2025-03-22 03:14:41   \n",
       "2      us.anthropic.claude-3-5-haiku-20241022-v1:0 2025-03-22 03:14:41   \n",
       "3      us.anthropic.claude-3-5-haiku-20241022-v1:0 2025-03-22 03:14:41   \n",
       "4      us.anthropic.claude-3-5-haiku-20241022-v1:0 2025-03-22 03:14:41   \n",
       "...                                            ...                 ...   \n",
       "46569  us.anthropic.claude-3-5-haiku-20241022-v1:0 2025-03-28 05:27:57   \n",
       "46570  us.anthropic.claude-3-5-haiku-20241022-v1:0 2025-03-28 05:27:57   \n",
       "46571  us.anthropic.claude-3-5-haiku-20241022-v1:0 2025-03-28 05:27:57   \n",
       "46572  us.anthropic.claude-3-5-haiku-20241022-v1:0 2025-03-28 05:27:57   \n",
       "46573  us.anthropic.claude-3-5-haiku-20241022-v1:0 2025-03-28 05:01:57   \n",
       "\n",
       "      day_of_week  hour  month  day  year  \n",
       "0        Saturday     3      3   22    22  \n",
       "1        Saturday     3      3   22    22  \n",
       "2        Saturday     3      3   22    22  \n",
       "3        Saturday     3      3   22    22  \n",
       "4        Saturday     3      3   22    22  \n",
       "...           ...   ...    ...  ...   ...  \n",
       "46569      Friday     5      3   28    28  \n",
       "46570      Friday     5      3   28    28  \n",
       "46571      Friday     5      3   28    28  \n",
       "46572      Friday     5      3   28    28  \n",
       "46573      Friday     5      3   28    28  \n",
       "\n",
       "[46574 rows x 10 columns]"
      ]
     },
     "execution_count": 5,
     "metadata": {},
     "output_type": "execute_result"
    }
   ],
   "source": [
    "\n",
    "# Load prompts dataset (replace with actual file path if needed)\n",
    "#Import the dataset#\n",
    "\n",
    "df= pd.read_excel(r\"D:\\Users\\kaiecobb\\Documents\\GitHub\\NLP4Survey\\Customer-Data-Survey-Analysis\\Notebooks\\GSAi Topic Model\\MSG-P-AI-datadog-20250403.xlsx\")\n",
    "\n",
    "type(df)\n",
    "\n",
    "# Overview of dataset \n",
    "print(df.info()) # Check column types and missing values\n",
    "print(df.describe()) # Summary Statistics\n",
    "\n",
    "#Preview first few rows\n",
    "df.head()\n",
    "df"
   ]
  },
  {
   "cell_type": "code",
   "execution_count": 6,
   "id": "ef84b48a",
   "metadata": {},
   "outputs": [],
   "source": [
    "df.rename(columns={'content': 'prompt'}, inplace=True)"
   ]
  },
  {
   "cell_type": "code",
   "execution_count": 7,
   "id": "62c60eeb",
   "metadata": {},
   "outputs": [],
   "source": [
    "# Concatenate use and assistent content in conversation order: \n",
    "# Group by conversation ID, sort by timestamp\n",
    "df = df.sort_values(by=[\"id\", \"timestamp\"])\n",
    "\n",
    "# Group by Id and concatenate user + assistant messages\n",
    "convo_df = df.groupby(\"id\")[\"prompt\"].apply(lambda x: \" \".join(x.astype(str))).reset_index()\n"
   ]
  },
  {
   "cell_type": "code",
   "execution_count": 8,
   "id": "1f3d9c00",
   "metadata": {},
   "outputs": [
    {
     "data": {
      "text/html": [
       "<div>\n",
       "<style scoped>\n",
       "    .dataframe tbody tr th:only-of-type {\n",
       "        vertical-align: middle;\n",
       "    }\n",
       "\n",
       "    .dataframe tbody tr th {\n",
       "        vertical-align: top;\n",
       "    }\n",
       "\n",
       "    .dataframe thead th {\n",
       "        text-align: right;\n",
       "    }\n",
       "</style>\n",
       "<table border=\"1\" class=\"dataframe\">\n",
       "  <thead>\n",
       "    <tr style=\"text-align: right;\">\n",
       "      <th></th>\n",
       "      <th>id</th>\n",
       "      <th>prompt</th>\n",
       "    </tr>\n",
       "  </thead>\n",
       "  <tbody>\n",
       "    <tr>\n",
       "      <th>0</th>\n",
       "      <td>3885142785318887854463095736073954673104784766...</td>\n",
       "      <td>Here's a joke for you:\\n\\nWhy don't scientists...</td>\n",
       "    </tr>\n",
       "    <tr>\n",
       "      <th>1</th>\n",
       "      <td>3885145046614450985468282409518322085068555882...</td>\n",
       "      <td>Please tell me the capital of France. Please w...</td>\n",
       "    </tr>\n",
       "    <tr>\n",
       "      <th>2</th>\n",
       "      <td>3885164796154398804188137626652806847375864661...</td>\n",
       "      <td>Rust diesel postgresql I'll provide an overvie...</td>\n",
       "    </tr>\n",
       "    <tr>\n",
       "      <th>3</th>\n",
       "      <td>3885167008388322498425953384681284618048390749...</td>\n",
       "      <td>git fetch hanging, how do i check credentials</td>\n",
       "    </tr>\n",
       "    <tr>\n",
       "      <th>4</th>\n",
       "      <td>3885179554787571191754533493849350514848268008...</td>\n",
       "      <td>what is the gsa geco contract I want to be tra...</td>\n",
       "    </tr>\n",
       "    <tr>\n",
       "      <th>...</th>\n",
       "      <td>...</td>\n",
       "      <td>...</td>\n",
       "    </tr>\n",
       "    <tr>\n",
       "      <th>9112</th>\n",
       "      <td>3888017280012593816488201464119161159292872242...</td>\n",
       "      <td>can you rewrite this email: Good Afternoon Gre...</td>\n",
       "    </tr>\n",
       "    <tr>\n",
       "      <th>9113</th>\n",
       "      <td>3888017375905798170169880977568340869908082260...</td>\n",
       "      <td>who won the superbowl this year Based on the c...</td>\n",
       "    </tr>\n",
       "    <tr>\n",
       "      <th>9114</th>\n",
       "      <td>3888017387056170769435192549546222701834619006...</td>\n",
       "      <td>generate a letter for dos to give to our contr...</td>\n",
       "    </tr>\n",
       "    <tr>\n",
       "      <th>9115</th>\n",
       "      <td>3888017400436617888553566434467653665423635910...</td>\n",
       "      <td>Unit #1 AC serving south side of building not ...</td>\n",
       "    </tr>\n",
       "    <tr>\n",
       "      <th>9116</th>\n",
       "      <td>3888017402666692408406628748621225492688472060...</td>\n",
       "      <td>Please describe GSA OGC’s core mission and vision</td>\n",
       "    </tr>\n",
       "  </tbody>\n",
       "</table>\n",
       "<p>9117 rows × 2 columns</p>\n",
       "</div>"
      ],
      "text/plain": [
       "                                                     id  \\\n",
       "0     3885142785318887854463095736073954673104784766...   \n",
       "1     3885145046614450985468282409518322085068555882...   \n",
       "2     3885164796154398804188137626652806847375864661...   \n",
       "3     3885167008388322498425953384681284618048390749...   \n",
       "4     3885179554787571191754533493849350514848268008...   \n",
       "...                                                 ...   \n",
       "9112  3888017280012593816488201464119161159292872242...   \n",
       "9113  3888017375905798170169880977568340869908082260...   \n",
       "9114  3888017387056170769435192549546222701834619006...   \n",
       "9115  3888017400436617888553566434467653665423635910...   \n",
       "9116  3888017402666692408406628748621225492688472060...   \n",
       "\n",
       "                                                 prompt  \n",
       "0     Here's a joke for you:\\n\\nWhy don't scientists...  \n",
       "1     Please tell me the capital of France. Please w...  \n",
       "2     Rust diesel postgresql I'll provide an overvie...  \n",
       "3         git fetch hanging, how do i check credentials  \n",
       "4     what is the gsa geco contract I want to be tra...  \n",
       "...                                                 ...  \n",
       "9112  can you rewrite this email: Good Afternoon Gre...  \n",
       "9113  who won the superbowl this year Based on the c...  \n",
       "9114  generate a letter for dos to give to our contr...  \n",
       "9115  Unit #1 AC serving south side of building not ...  \n",
       "9116  Please describe GSA OGC’s core mission and vision  \n",
       "\n",
       "[9117 rows x 2 columns]"
      ]
     },
     "execution_count": 8,
     "metadata": {},
     "output_type": "execute_result"
    }
   ],
   "source": [
    "convo_df"
   ]
  },
  {
   "cell_type": "code",
   "execution_count": 9,
   "id": "34c649e7",
   "metadata": {},
   "outputs": [],
   "source": [
    "############################################\n",
    "# ---- Step 2: EDA and Pre-processing ---- #\n",
    "############################################"
   ]
  },
  {
   "cell_type": "code",
   "execution_count": 10,
   "id": "2d60236e",
   "metadata": {},
   "outputs": [
    {
     "data": {
      "text/plain": [
       "0    here joke scientist trust atom make everything...\n",
       "1    please tell capital france please write senten...\n",
       "2    rust diesel postgresql ill provide overview us...\n",
       "3                      git fetch hang check credential\n",
       "4    gsa geco contract want transparent provide gen...\n",
       "Name: cleaned_prompts, dtype: object"
      ]
     },
     "execution_count": 10,
     "metadata": {},
     "output_type": "execute_result"
    }
   ],
   "source": [
    "# Clean and Preprocess Text (LDA & BERTopic Compatible)\n",
    "def preprocess_text(text):\n",
    "    \"\"\"preprocess text for both BERT and LDA.\"\"\"\n",
    "    if pd.isnull(text): # Handle missing values\n",
    "        return \"\"\n",
    "    \n",
    "    text = text.lower()  # Lowercase\n",
    "    text = re.sub(r'\\s+', ' ', text) # Remove extra whitespace\n",
    "    text = re.sub(r'[^a-zA-Z\\s]', '', text)  # Remove punctuation & numbers\n",
    "\n",
    "    doc = nlp(text)\n",
    "    tokens = [token.lemma_ for token in nlp(text) if token.text not in stop_words and len(token.text) > 2] # Lemmatization and stopword removal\n",
    "    return \" \".join(tokens)\n",
    "\n",
    "# apply preprocess function\n",
    "convo_df[\"cleaned_prompts\"] = convo_df[\"prompt\"].astype(str).apply(preprocess_text)\n",
    "\n",
    "# Remove empty rows\n",
    "convo_df = convo_df[convo_df[\"cleaned_prompts\"].str.strip() !=\"\"]\n",
    "\n",
    "# Remove duplicates\n",
    "convo_df = convo_df.drop_duplicates(subset=[\"cleaned_prompts\"])\n",
    "\n",
    "# Check cleaned prompts\n",
    "convo_df[\"cleaned_prompts\"].head()"
   ]
  },
  {
   "cell_type": "code",
   "execution_count": 11,
   "id": "bcae6396",
   "metadata": {},
   "outputs": [
    {
     "name": "stdout",
     "output_type": "stream",
     "text": [
      "[('specific', 22577), ('provide', 21230), ('use', 21101), ('would', 20023), ('like', 19530), ('gsa', 18783), ('project', 15582), ('system', 14485), ('information', 14263), ('service', 14169), ('contract', 14126), ('management', 13415), ('datum', 12756), ('process', 12585), ('requirement', 12461), ('help', 11596), ('key', 11489), ('work', 11308), ('need', 11133), ('create', 10934)]\n"
     ]
    },
    {
     "data": {
      "image/png": "[encoded data removed]",
      "text/plain": [
       "<Figure size 1000x500 with 1 Axes>"
      ]
     },
     "metadata": {},
     "output_type": "display_data"
    }
   ],
   "source": [
    "# Word Frequency Analysis\n",
    "\n",
    "# Tokenize cleaned text\n",
    "all_words = \" \".join(convo_df[\"cleaned_prompts\"]).split()\n",
    "word_freq = Counter(all_words)\n",
    "\n",
    "# Most common words\n",
    "print(word_freq.most_common(20))\n",
    "\n",
    "# Word Cloud\n",
    "wordcloud = WordCloud(width=800, height=400, background_color=\"white\").generate(\" \".join(all_words))\n",
    "plt.figure(figsize=(10,5))\n",
    "plt.imshow(wordcloud, interpolation=\"bilinear\")\n",
    "plt.axis(\"off\")\n",
    "plt.show()"
   ]
  },
  {
   "cell_type": "code",
   "execution_count": 12,
   "id": "eccd394b",
   "metadata": {},
   "outputs": [
    {
     "name": "stdout",
     "output_type": "stream",
     "text": [
      "Top Bigrams: [(('would', 'like'), 14507), (('like', 'elaborate'), 6201), (('provide', 'general'), 1921), (('elaborate', 'specific'), 1911), (('specific', 'aspect'), 1695), (('official', 'gsa'), 1684), (('good', 'practice'), 1671), (('like', 'help'), 1666), (('federal', 'agency'), 1664), (('contracting', 'officer'), 1613), (('google', 'sheet'), 1375), (('small', 'business'), 1347), (('project', 'management'), 1313), (('ill', 'help'), 1253), (('provide', 'specific'), 1239), (('federal', 'acquisition'), 1194), (('next', 'step'), 1170), (('specific', 'detail'), 1143), (('real', 'estate'), 1134), (('like', 'explain'), 1075)]\n",
      "Top Trigrams: [(('would', 'like', 'elaborate'), 6186), (('like', 'elaborate', 'specific'), 1873), (('would', 'like', 'help'), 1509), (('elaborate', 'specific', 'aspect'), 1343), (('would', 'like', 'explain'), 1066), (('federal', 'acquisition', 'regulation'), 814), (('like', 'elaborate', 'part'), 737), (('would', 'like', 'provide'), 688), (('provide', 'general', 'guidance'), 643), (('general', 'services', 'administration'), 636), (('like', 'elaborate', 'aspect'), 612), (('acquisition', 'regulation', 'far'), 499), (('consult', 'official', 'gsa'), 495), (('recommend', 'next', 'step'), 465), (('google', 'app', 'script'), 462), (('provide', 'general', 'information'), 457), (('would', 'like', 'modify'), 453), (('like', 'elaborate', 'point'), 452), (('would', 'like', 'refine'), 432), (('recommend', 'consult', 'official'), 422)]\n"
     ]
    }
   ],
   "source": [
    "# Bi-gram & Tri-gram Analysis\n",
    "from gensim.models.phrases import Phrases, Phraser\n",
    "\n",
    "# Function to generate n-grams\n",
    "def get_ngrams(texts, n=2, top_n=20):\n",
    "    ngram_list = []\n",
    "    for text in texts:\n",
    "        tokens = text.split()\n",
    "        ngram_list.extend(list(ngrams(tokens, n)))\n",
    "    return Counter(ngram_list).most_common(top_n)\n",
    "\n",
    "\n",
    "# Show top bi-grams & tri-grams\n",
    "print(\"Top Bigrams:\", get_ngrams(convo_df[\"cleaned_prompts\"], 2))\n",
    "print(\"Top Trigrams:\", get_ngrams(convo_df[\"cleaned_prompts\"], 3))\n",
    "\n"
   ]
  },
  {
   "cell_type": "code",
   "execution_count": 13,
   "id": "898a64fb",
   "metadata": {},
   "outputs": [
    {
     "name": "stdout",
     "output_type": "stream",
     "text": [
      "id                 0\n",
      "prompt             0\n",
      "cleaned_prompts    0\n",
      "dtype: int64\n",
      "Duplicates: 0\n"
     ]
    },
    {
     "data": {
      "text/plain": [
       "count    8998.000000\n",
       "mean      385.913092\n",
       "std       851.782550\n",
       "min         1.000000\n",
       "25%         7.000000\n",
       "50%       120.000000\n",
       "75%       367.000000\n",
       "max      8701.000000\n",
       "Name: text_length, dtype: float64"
      ]
     },
     "execution_count": 13,
     "metadata": {},
     "output_type": "execute_result"
    }
   ],
   "source": [
    "# Check for Anomalies after Cleaning\n",
    "# Make sure dataset is clean before modeling\n",
    "\n",
    "# Check missing values\n",
    "print(convo_df.isnull().sum())\n",
    "\n",
    "# Check duplicate prompts after cleaning\n",
    "print(\"Duplicates:\", convo_df.duplicated(subset=[\"cleaned_prompts\"]).sum())\n",
    "\n",
    "# Check text length distribution\n",
    "convo_df[\"text_length\"] = convo_df[\"cleaned_prompts\"].apply(lambda x: len(x.split()))\n",
    "convo_df[\"text_length\"].describe()\n"
   ]
  },
  {
   "cell_type": "code",
   "execution_count": 14,
   "id": "dd751398",
   "metadata": {},
   "outputs": [],
   "source": [
    "# Formatting Processed Text for LDAvis\n",
    "\n",
    "\n",
    "def generate_bigrams_trigrams(texts, min_count=5, threshold=10):\n",
    "    \"\"\"\n",
    "    Apply bigrams and trigrams to tokenized texts.\n",
    "    \"\"\"\n",
    "    tokenized_texts = [text.split() for text in texts]\n",
    "\n",
    "    # Build the bigram and trigram models\n",
    "    bigram = Phrases(tokenized_texts, min_count=min_count, threshold=threshold)\n",
    "    trigram = Phrases(bigram[tokenized_texts], threshold=threshold)\n",
    "\n",
    "    bigram_mod = Phraser(bigram)\n",
    "    trigram_mod = Phraser(trigram)\n",
    "\n",
    "    # Apply the models\n",
    "    return [trigram_mod[bigram_mod[doc]] for doc in tokenized_texts]\n",
    "\n",
    "#Tokenize   \n",
    "tokenized_texts = generate_bigrams_trigrams(convo_df[\"cleaned_prompts\"])\n",
    "   \n",
    "# Create dicitonary \n",
    "dictionary = Dictionary(tokenized_texts)\n",
    "\n",
    "# Filter extremes \n",
    "dictionary.filter_extremes(no_below=5, no_above=0.7)\n",
    "\n",
    "# Convert to corpus\n",
    "corpus = [dictionary.doc2bow(text) for text in tokenized_texts]\n",
    "\n"
   ]
  },
  {
   "cell_type": "code",
   "execution_count": 15,
   "id": "dcd15e14",
   "metadata": {},
   "outputs": [
    {
     "name": "stdout",
     "output_type": "stream",
     "text": [
      "EDA report saved to eda_report_Convo_GSAi_Topic_Model_v3.json\n"
     ]
    }
   ],
   "source": [
    "# Function to generate and save an EDA report\n",
    "\n",
    "\n",
    "def generate_eda_report(convo_df, text_column=\"cleaned_prompts\", output_path=\"eda_report_Convo_GSAi_Topic_Model_v3.json\"):\n",
    "    report = {}\n",
    "\n",
    "    # Dataset Overview\n",
    "    report[\"Dataset Summary\"] = {\n",
    "        \"Total Rows\": int(len(convo_df)),\n",
    "        \"Missing Values\": int(convo_df[text_column].isnull().sum()),\n",
    "        \"Duplicate Entries\": int(convo_df.duplicated(subset=[text_column]).sum()),\n",
    "        \"Average Text Length\": float(convo_df[text_column].apply(lambda x: len(x.split())).mean()),\n",
    "        \"Min Text Length\": int(convo_df[text_column].apply(lambda x: len(x.split())).min()),\n",
    "        \"Max Text Length\": int(convo_df[text_column].apply(lambda x: len(x.split())).max()),\n",
    "    }\n",
    "\n",
    "    # Word Frequency Analysis\n",
    "    all_words = \" \".join(convo_df[text_column]).split()\n",
    "    word_freq = Counter(all_words)\n",
    "    report[\"Top Words\"] = [(word, int(freq)) for word, freq in word_freq.most_common(20)]\n",
    "\n",
    "    # N-gram Analysis\n",
    "    report[\"Top Bigrams\"] = [(str(ngram), int(freq)) for ngram, freq in get_ngrams(convo_df[text_column], 2)]\n",
    "    report[\"Top Trigrams\"] = [(str(ngram), int(freq)) for ngram, freq in get_ngrams(convo_df[text_column], 3)]\n",
    "\n",
    "\n",
    "    # Save report as JSON\n",
    "    with open(output_path, \"w\") as f:\n",
    "        json.dump(report, f, indent=4)\n",
    "\n",
    "    print(f\"EDA report saved to {output_path}\")\n",
    "\n",
    "# Run EDA and save results\n",
    "generate_eda_report(convo_df)"
   ]
  },
  {
   "cell_type": "code",
   "execution_count": 16,
   "id": "6b5ec916",
   "metadata": {},
   "outputs": [],
   "source": [
    "#################################\n",
    "# ---- Step 3: Topic Model ---- #\n",
    "#################################"
   ]
  },
  {
   "cell_type": "code",
   "execution_count": 17,
   "id": "e2148cdf",
   "metadata": {},
   "outputs": [],
   "source": [
    "\n",
    "# Define a Logging Function for tracking LDAvis and BERTopic results\n",
    "import datetime\n",
    "\n",
    "def log_results(model_name, parameters, topics, coherence_score, output_path=\"model_results_Convo_GSAi_Topic_Model_v3.json\"):\n",
    "    \"\"\"Logs model parameters and results.\"\"\"\n",
    "    log_entry = {\n",
    "        \"timestamp\": str(datetime.datetime.now()),\n",
    "        \"model\": model_name,\n",
    "        \"parameters\": parameters,\n",
    "        \"topics\": topics,\n",
    "        \"coherence_score\": coherence_score,\n",
    "    }\n",
    "\n",
    "    # Load existing results if file exists\n",
    "    try:\n",
    "        with open(output_path, \"r\") as f:\n",
    "            logs = json.load(f)\n",
    "    except FileNotFoundError:\n",
    "        logs = []\n",
    "\n",
    "    logs.append(log_entry)\n",
    "\n",
    "    # Save updated results\n",
    "    with open(output_path, \"w\") as f:\n",
    "        json.dump(logs, f, indent=4)\n",
    "\n",
    "    print(f\"Results logged to {output_path}\")"
   ]
  },
  {
   "cell_type": "code",
   "execution_count": 18,
   "id": "4ff55103",
   "metadata": {},
   "outputs": [],
   "source": [
    "###################\n",
    "# LDA Topic Model #\n",
    "###################"
   ]
  },
  {
   "cell_type": "code",
   "execution_count": 19,
   "id": "0eafa19b",
   "metadata": {},
   "outputs": [
    {
     "name": "stderr",
     "output_type": "stream",
     "text": [
      "Tuning LDA Models:   1%|▌                                          | 1/80 [01:12<1:35:26, 72.49s/it]"
     ]
    },
    {
     "name": "stdout",
     "output_type": "stream",
     "text": [
      "Topics=5, Alpha=symmetric, Beta=symmetric, Coherence=0.4825\n"
     ]
    },
    {
     "name": "stderr",
     "output_type": "stream",
     "text": [
      "Tuning LDA Models:   2%|█                                          | 2/80 [02:27<1:36:29, 74.23s/it]"
     ]
    },
    {
     "name": "stdout",
     "output_type": "stream",
     "text": [
      "Topics=5, Alpha=symmetric, Beta=0.01, Coherence=0.5070\n"
     ]
    },
    {
     "name": "stderr",
     "output_type": "stream",
     "text": [
      "Tuning LDA Models:   4%|█▌                                         | 3/80 [03:38<1:33:03, 72.51s/it]"
     ]
    },
    {
     "name": "stdout",
     "output_type": "stream",
     "text": [
      "Topics=5, Alpha=symmetric, Beta=0.1, Coherence=0.4987\n"
     ]
    },
    {
     "name": "stderr",
     "output_type": "stream",
     "text": [
      "Tuning LDA Models:   5%|██▏                                        | 4/80 [04:50<1:31:33, 72.28s/it]"
     ]
    },
    {
     "name": "stdout",
     "output_type": "stream",
     "text": [
      "Topics=5, Alpha=symmetric, Beta=0.5, Coherence=0.4803\n"
     ]
    },
    {
     "name": "stderr",
     "output_type": "stream",
     "text": [
      "Tuning LDA Models:   6%|██▋                                        | 5/80 [06:00<1:29:30, 71.61s/it]"
     ]
    },
    {
     "name": "stdout",
     "output_type": "stream",
     "text": [
      "Topics=5, Alpha=asymmetric, Beta=symmetric, Coherence=0.4691\n"
     ]
    },
    {
     "name": "stderr",
     "output_type": "stream",
     "text": [
      "Tuning LDA Models:   8%|███▏                                       | 6/80 [07:16<1:29:58, 72.95s/it]"
     ]
    },
    {
     "name": "stdout",
     "output_type": "stream",
     "text": [
      "Topics=5, Alpha=asymmetric, Beta=0.01, Coherence=0.4945\n"
     ]
    },
    {
     "name": "stderr",
     "output_type": "stream",
     "text": [
      "Tuning LDA Models:   9%|███▊                                       | 7/80 [08:24<1:27:03, 71.55s/it]"
     ]
    },
    {
     "name": "stdout",
     "output_type": "stream",
     "text": [
      "Topics=5, Alpha=asymmetric, Beta=0.1, Coherence=0.4670\n"
     ]
    },
    {
     "name": "stderr",
     "output_type": "stream",
     "text": [
      "Tuning LDA Models:  10%|████▎                                      | 8/80 [09:40<1:27:13, 72.69s/it]"
     ]
    },
    {
     "name": "stdout",
     "output_type": "stream",
     "text": [
      "Topics=5, Alpha=asymmetric, Beta=0.5, Coherence=0.5069\n"
     ]
    },
    {
     "name": "stderr",
     "output_type": "stream",
     "text": [
      "Tuning LDA Models:  11%|████▊                                      | 9/80 [10:53<1:26:22, 72.99s/it]"
     ]
    },
    {
     "name": "stdout",
     "output_type": "stream",
     "text": [
      "Topics=5, Alpha=0.01, Beta=symmetric, Coherence=0.4827\n"
     ]
    },
    {
     "name": "stderr",
     "output_type": "stream",
     "text": [
      "Tuning LDA Models:  12%|█████▎                                    | 10/80 [12:05<1:24:48, 72.70s/it]"
     ]
    },
    {
     "name": "stdout",
     "output_type": "stream",
     "text": [
      "Topics=5, Alpha=0.01, Beta=0.01, Coherence=0.4967\n"
     ]
    },
    {
     "name": "stderr",
     "output_type": "stream",
     "text": [
      "Tuning LDA Models:  14%|█████▊                                    | 11/80 [13:20<1:24:12, 73.23s/it]"
     ]
    },
    {
     "name": "stdout",
     "output_type": "stream",
     "text": [
      "Topics=5, Alpha=0.01, Beta=0.1, Coherence=0.5037\n"
     ]
    },
    {
     "name": "stderr",
     "output_type": "stream",
     "text": [
      "Tuning LDA Models:  15%|██████▎                                   | 12/80 [14:32<1:22:29, 72.79s/it]"
     ]
    },
    {
     "name": "stdout",
     "output_type": "stream",
     "text": [
      "Topics=5, Alpha=0.01, Beta=0.5, Coherence=0.4888\n"
     ]
    },
    {
     "name": "stderr",
     "output_type": "stream",
     "text": [
      "Tuning LDA Models:  16%|██████▊                                   | 13/80 [15:42<1:20:24, 72.00s/it]"
     ]
    },
    {
     "name": "stdout",
     "output_type": "stream",
     "text": [
      "Topics=5, Alpha=0.1, Beta=symmetric, Coherence=0.4807\n"
     ]
    },
    {
     "name": "stderr",
     "output_type": "stream",
     "text": [
      "Tuning LDA Models:  18%|███████▎                                  | 14/80 [16:56<1:19:50, 72.58s/it]"
     ]
    },
    {
     "name": "stdout",
     "output_type": "stream",
     "text": [
      "Topics=5, Alpha=0.1, Beta=0.01, Coherence=0.4980\n"
     ]
    },
    {
     "name": "stderr",
     "output_type": "stream",
     "text": [
      "Tuning LDA Models:  19%|███████▉                                  | 15/80 [18:12<1:19:46, 73.64s/it]"
     ]
    },
    {
     "name": "stdout",
     "output_type": "stream",
     "text": [
      "Topics=5, Alpha=0.1, Beta=0.1, Coherence=0.5037\n"
     ]
    },
    {
     "name": "stderr",
     "output_type": "stream",
     "text": [
      "Tuning LDA Models:  20%|████████▍                                 | 16/80 [19:30<1:20:08, 75.13s/it]"
     ]
    },
    {
     "name": "stdout",
     "output_type": "stream",
     "text": [
      "Topics=5, Alpha=0.1, Beta=0.5, Coherence=0.4832\n"
     ]
    },
    {
     "name": "stderr",
     "output_type": "stream",
     "text": [
      "Tuning LDA Models:  21%|████████▉                                 | 17/80 [20:41<1:17:24, 73.73s/it]"
     ]
    },
    {
     "name": "stdout",
     "output_type": "stream",
     "text": [
      "Topics=5, Alpha=0.5, Beta=symmetric, Coherence=0.4928\n"
     ]
    },
    {
     "name": "stderr",
     "output_type": "stream",
     "text": [
      "Tuning LDA Models:  22%|█████████▍                                | 18/80 [21:55<1:16:20, 73.89s/it]"
     ]
    },
    {
     "name": "stdout",
     "output_type": "stream",
     "text": [
      "Topics=5, Alpha=0.5, Beta=0.01, Coherence=0.5104\n"
     ]
    },
    {
     "name": "stderr",
     "output_type": "stream",
     "text": [
      "Tuning LDA Models:  24%|█████████▉                                | 19/80 [23:04<1:13:30, 72.30s/it]"
     ]
    },
    {
     "name": "stdout",
     "output_type": "stream",
     "text": [
      "Topics=5, Alpha=0.5, Beta=0.1, Coherence=0.5086\n"
     ]
    },
    {
     "name": "stderr",
     "output_type": "stream",
     "text": [
      "Tuning LDA Models:  25%|██████████▌                               | 20/80 [24:19<1:13:20, 73.33s/it]"
     ]
    },
    {
     "name": "stdout",
     "output_type": "stream",
     "text": [
      "Topics=5, Alpha=0.5, Beta=0.5, Coherence=0.4873\n"
     ]
    },
    {
     "name": "stderr",
     "output_type": "stream",
     "text": [
      "Tuning LDA Models:  26%|███████████                               | 21/80 [26:01<1:20:21, 81.72s/it]"
     ]
    },
    {
     "name": "stdout",
     "output_type": "stream",
     "text": [
      "Topics=10, Alpha=symmetric, Beta=symmetric, Coherence=0.5228\n"
     ]
    },
    {
     "name": "stderr",
     "output_type": "stream",
     "text": [
      "Tuning LDA Models:  28%|███████████▌                              | 22/80 [27:50<1:26:53, 89.89s/it]"
     ]
    },
    {
     "name": "stdout",
     "output_type": "stream",
     "text": [
      "Topics=10, Alpha=symmetric, Beta=0.01, Coherence=0.5069\n"
     ]
    },
    {
     "name": "stderr",
     "output_type": "stream",
     "text": [
      "Tuning LDA Models:  29%|████████████                              | 23/80 [29:32<1:28:49, 93.51s/it]"
     ]
    },
    {
     "name": "stdout",
     "output_type": "stream",
     "text": [
      "Topics=10, Alpha=symmetric, Beta=0.1, Coherence=0.5228\n"
     ]
    },
    {
     "name": "stderr",
     "output_type": "stream",
     "text": [
      "Tuning LDA Models:  30%|████████████▌                             | 24/80 [31:20<1:31:20, 97.86s/it]"
     ]
    },
    {
     "name": "stdout",
     "output_type": "stream",
     "text": [
      "Topics=10, Alpha=symmetric, Beta=0.5, Coherence=0.5106\n"
     ]
    },
    {
     "name": "stderr",
     "output_type": "stream",
     "text": [
      "Tuning LDA Models:  31%|█████████████▏                            | 25/80 [32:59<1:30:08, 98.35s/it]"
     ]
    },
    {
     "name": "stdout",
     "output_type": "stream",
     "text": [
      "Topics=10, Alpha=asymmetric, Beta=symmetric, Coherence=0.5188\n"
     ]
    },
    {
     "name": "stderr",
     "output_type": "stream",
     "text": [
      "Tuning LDA Models:  32%|█████████████▎                           | 26/80 [34:50<1:31:54, 102.13s/it]"
     ]
    },
    {
     "name": "stdout",
     "output_type": "stream",
     "text": [
      "Topics=10, Alpha=asymmetric, Beta=0.01, Coherence=0.5092\n"
     ]
    },
    {
     "name": "stderr",
     "output_type": "stream",
     "text": [
      "Tuning LDA Models:  34%|█████████████▊                           | 27/80 [36:35<1:30:51, 102.87s/it]"
     ]
    },
    {
     "name": "stdout",
     "output_type": "stream",
     "text": [
      "Topics=10, Alpha=asymmetric, Beta=0.1, Coherence=0.5188\n"
     ]
    },
    {
     "name": "stderr",
     "output_type": "stream",
     "text": [
      "Tuning LDA Models:  35%|██████████████▎                          | 28/80 [38:24<1:30:51, 104.84s/it]"
     ]
    },
    {
     "name": "stdout",
     "output_type": "stream",
     "text": [
      "Topics=10, Alpha=asymmetric, Beta=0.5, Coherence=0.5108\n"
     ]
    },
    {
     "name": "stderr",
     "output_type": "stream",
     "text": [
      "Tuning LDA Models:  36%|██████████████▊                          | 29/80 [40:06<1:28:16, 103.85s/it]"
     ]
    },
    {
     "name": "stdout",
     "output_type": "stream",
     "text": [
      "Topics=10, Alpha=0.01, Beta=symmetric, Coherence=0.5193\n"
     ]
    },
    {
     "name": "stderr",
     "output_type": "stream",
     "text": [
      "Tuning LDA Models:  38%|███████████████▍                         | 30/80 [41:56<1:28:11, 105.83s/it]"
     ]
    },
    {
     "name": "stdout",
     "output_type": "stream",
     "text": [
      "Topics=10, Alpha=0.01, Beta=0.01, Coherence=0.5055\n"
     ]
    },
    {
     "name": "stderr",
     "output_type": "stream",
     "text": [
      "Tuning LDA Models:  39%|███████████████▉                         | 31/80 [43:38<1:25:22, 104.55s/it]"
     ]
    },
    {
     "name": "stdout",
     "output_type": "stream",
     "text": [
      "Topics=10, Alpha=0.01, Beta=0.1, Coherence=0.5193\n"
     ]
    },
    {
     "name": "stderr",
     "output_type": "stream",
     "text": [
      "Tuning LDA Models:  40%|████████████████▍                        | 32/80 [45:28<1:25:02, 106.29s/it]"
     ]
    },
    {
     "name": "stdout",
     "output_type": "stream",
     "text": [
      "Topics=10, Alpha=0.01, Beta=0.5, Coherence=0.5140\n"
     ]
    },
    {
     "name": "stderr",
     "output_type": "stream",
     "text": [
      "Tuning LDA Models:  41%|████████████████▉                        | 33/80 [47:10<1:22:12, 104.95s/it]"
     ]
    },
    {
     "name": "stdout",
     "output_type": "stream",
     "text": [
      "Topics=10, Alpha=0.1, Beta=symmetric, Coherence=0.5228\n"
     ]
    },
    {
     "name": "stderr",
     "output_type": "stream",
     "text": [
      "Tuning LDA Models:  42%|█████████████████▍                       | 34/80 [48:58<1:21:10, 105.88s/it]"
     ]
    },
    {
     "name": "stdout",
     "output_type": "stream",
     "text": [
      "Topics=10, Alpha=0.1, Beta=0.01, Coherence=0.5069\n"
     ]
    },
    {
     "name": "stderr",
     "output_type": "stream",
     "text": [
      "Tuning LDA Models:  44%|█████████████████▉                       | 35/80 [50:38<1:18:10, 104.24s/it]"
     ]
    },
    {
     "name": "stdout",
     "output_type": "stream",
     "text": [
      "Topics=10, Alpha=0.1, Beta=0.1, Coherence=0.5228\n"
     ]
    },
    {
     "name": "stderr",
     "output_type": "stream",
     "text": [
      "Tuning LDA Models:  45%|██████████████████▍                      | 36/80 [52:25<1:16:59, 104.99s/it]"
     ]
    },
    {
     "name": "stdout",
     "output_type": "stream",
     "text": [
      "Topics=10, Alpha=0.1, Beta=0.5, Coherence=0.5106\n"
     ]
    },
    {
     "name": "stderr",
     "output_type": "stream",
     "text": [
      "Tuning LDA Models:  46%|██████████████████▉                      | 37/80 [54:25<1:18:34, 109.63s/it]"
     ]
    },
    {
     "name": "stdout",
     "output_type": "stream",
     "text": [
      "Topics=10, Alpha=0.5, Beta=symmetric, Coherence=0.5151\n"
     ]
    },
    {
     "name": "stderr",
     "output_type": "stream",
     "text": [
      "Tuning LDA Models:  48%|███████████████████▍                     | 38/80 [56:25<1:18:55, 112.74s/it]"
     ]
    },
    {
     "name": "stdout",
     "output_type": "stream",
     "text": [
      "Topics=10, Alpha=0.5, Beta=0.01, Coherence=0.5128\n"
     ]
    },
    {
     "name": "stderr",
     "output_type": "stream",
     "text": [
      "Tuning LDA Models:  49%|███████████████████▉                     | 39/80 [58:17<1:16:44, 112.31s/it]"
     ]
    },
    {
     "name": "stdout",
     "output_type": "stream",
     "text": [
      "Topics=10, Alpha=0.5, Beta=0.1, Coherence=0.5151\n"
     ]
    },
    {
     "name": "stderr",
     "output_type": "stream",
     "text": [
      "Tuning LDA Models:  50%|███████████████████▌                   | 40/80 [1:00:06<1:14:14, 111.37s/it]"
     ]
    },
    {
     "name": "stdout",
     "output_type": "stream",
     "text": [
      "Topics=10, Alpha=0.5, Beta=0.5, Coherence=0.5072\n"
     ]
    },
    {
     "name": "stderr",
     "output_type": "stream",
     "text": [
      "Tuning LDA Models:  51%|███████████████████▉                   | 41/80 [1:02:55<1:23:36, 128.62s/it]"
     ]
    },
    {
     "name": "stdout",
     "output_type": "stream",
     "text": [
      "Topics=15, Alpha=symmetric, Beta=symmetric, Coherence=0.5066\n"
     ]
    },
    {
     "name": "stderr",
     "output_type": "stream",
     "text": [
      "Tuning LDA Models:  52%|████████████████████▍                  | 42/80 [1:05:37<1:27:49, 138.68s/it]"
     ]
    },
    {
     "name": "stdout",
     "output_type": "stream",
     "text": [
      "Topics=15, Alpha=symmetric, Beta=0.01, Coherence=0.5166\n"
     ]
    },
    {
     "name": "stderr",
     "output_type": "stream",
     "text": [
      "Tuning LDA Models:  54%|████████████████████▉                  | 43/80 [1:08:06<1:27:23, 141.71s/it]"
     ]
    },
    {
     "name": "stdout",
     "output_type": "stream",
     "text": [
      "Topics=15, Alpha=symmetric, Beta=0.1, Coherence=0.4971\n"
     ]
    },
    {
     "name": "stderr",
     "output_type": "stream",
     "text": [
      "Tuning LDA Models:  55%|█████████████████████▍                 | 44/80 [1:10:36<1:26:38, 144.39s/it]"
     ]
    },
    {
     "name": "stdout",
     "output_type": "stream",
     "text": [
      "Topics=15, Alpha=symmetric, Beta=0.5, Coherence=0.5085\n"
     ]
    },
    {
     "name": "stderr",
     "output_type": "stream",
     "text": [
      "Tuning LDA Models:  56%|█████████████████████▉                 | 45/80 [1:13:21<1:27:47, 150.49s/it]"
     ]
    },
    {
     "name": "stdout",
     "output_type": "stream",
     "text": [
      "Topics=15, Alpha=asymmetric, Beta=symmetric, Coherence=0.4999\n"
     ]
    },
    {
     "name": "stderr",
     "output_type": "stream",
     "text": [
      "Tuning LDA Models:  57%|██████████████████████▍                | 46/80 [1:16:03<1:27:14, 153.97s/it]"
     ]
    },
    {
     "name": "stdout",
     "output_type": "stream",
     "text": [
      "Topics=15, Alpha=asymmetric, Beta=0.01, Coherence=0.5299\n"
     ]
    },
    {
     "name": "stderr",
     "output_type": "stream",
     "text": [
      "Tuning LDA Models:  59%|██████████████████████▉                | 47/80 [1:18:29<1:23:22, 151.58s/it]"
     ]
    },
    {
     "name": "stdout",
     "output_type": "stream",
     "text": [
      "Topics=15, Alpha=asymmetric, Beta=0.1, Coherence=0.4952\n"
     ]
    },
    {
     "name": "stderr",
     "output_type": "stream",
     "text": [
      "Tuning LDA Models:  60%|███████████████████████▍               | 48/80 [1:20:52<1:19:29, 149.04s/it]"
     ]
    },
    {
     "name": "stdout",
     "output_type": "stream",
     "text": [
      "Topics=15, Alpha=asymmetric, Beta=0.5, Coherence=0.5418\n"
     ]
    },
    {
     "name": "stderr",
     "output_type": "stream",
     "text": [
      "Tuning LDA Models:  61%|███████████████████████▉               | 49/80 [1:23:30<1:18:24, 151.74s/it]"
     ]
    },
    {
     "name": "stdout",
     "output_type": "stream",
     "text": [
      "Topics=15, Alpha=0.01, Beta=symmetric, Coherence=0.5049\n"
     ]
    },
    {
     "name": "stderr",
     "output_type": "stream",
     "text": [
      "Tuning LDA Models:  62%|████████████████████████▍              | 50/80 [1:26:15<1:17:47, 155.58s/it]"
     ]
    },
    {
     "name": "stdout",
     "output_type": "stream",
     "text": [
      "Topics=15, Alpha=0.01, Beta=0.01, Coherence=0.5110\n"
     ]
    },
    {
     "name": "stderr",
     "output_type": "stream",
     "text": [
      "Tuning LDA Models:  64%|████████████████████████▊              | 51/80 [1:28:47<1:14:41, 154.54s/it]"
     ]
    },
    {
     "name": "stdout",
     "output_type": "stream",
     "text": [
      "Topics=15, Alpha=0.01, Beta=0.1, Coherence=0.4917\n"
     ]
    },
    {
     "name": "stderr",
     "output_type": "stream",
     "text": [
      "Tuning LDA Models:  65%|█████████████████████████▎             | 52/80 [1:31:26<1:12:41, 155.76s/it]"
     ]
    },
    {
     "name": "stdout",
     "output_type": "stream",
     "text": [
      "Topics=15, Alpha=0.01, Beta=0.5, Coherence=0.5342\n"
     ]
    },
    {
     "name": "stderr",
     "output_type": "stream",
     "text": [
      "Tuning LDA Models:  66%|█████████████████████████▊             | 53/80 [1:34:07<1:10:53, 157.54s/it]"
     ]
    },
    {
     "name": "stdout",
     "output_type": "stream",
     "text": [
      "Topics=15, Alpha=0.1, Beta=symmetric, Coherence=0.5023\n"
     ]
    },
    {
     "name": "stderr",
     "output_type": "stream",
     "text": [
      "Tuning LDA Models:  68%|██████████████████████████▎            | 54/80 [1:37:06<1:11:00, 163.88s/it]"
     ]
    },
    {
     "name": "stdout",
     "output_type": "stream",
     "text": [
      "Topics=15, Alpha=0.1, Beta=0.01, Coherence=0.5145\n"
     ]
    },
    {
     "name": "stderr",
     "output_type": "stream",
     "text": [
      "Tuning LDA Models:  69%|██████████████████████████▊            | 55/80 [1:39:23<1:04:54, 155.79s/it]"
     ]
    },
    {
     "name": "stdout",
     "output_type": "stream",
     "text": [
      "Topics=15, Alpha=0.1, Beta=0.1, Coherence=0.4921\n"
     ]
    },
    {
     "name": "stderr",
     "output_type": "stream",
     "text": [
      "Tuning LDA Models:  70%|███████████████████████████▎           | 56/80 [1:41:50<1:01:18, 153.29s/it]"
     ]
    },
    {
     "name": "stdout",
     "output_type": "stream",
     "text": [
      "Topics=15, Alpha=0.1, Beta=0.5, Coherence=0.5060\n"
     ]
    },
    {
     "name": "stderr",
     "output_type": "stream",
     "text": [
      "Tuning LDA Models:  71%|█████████████████████████████▏           | 57/80 [1:44:26<59:02, 154.02s/it]"
     ]
    },
    {
     "name": "stdout",
     "output_type": "stream",
     "text": [
      "Topics=15, Alpha=0.5, Beta=symmetric, Coherence=0.5051\n"
     ]
    },
    {
     "name": "stderr",
     "output_type": "stream",
     "text": [
      "Tuning LDA Models:  72%|█████████████████████████████▋           | 58/80 [1:47:05<57:02, 155.56s/it]"
     ]
    },
    {
     "name": "stdout",
     "output_type": "stream",
     "text": [
      "Topics=15, Alpha=0.5, Beta=0.01, Coherence=0.5121\n"
     ]
    },
    {
     "name": "stderr",
     "output_type": "stream",
     "text": [
      "Tuning LDA Models:  74%|██████████████████████████████▏          | 59/80 [1:49:28<53:07, 151.76s/it]"
     ]
    },
    {
     "name": "stdout",
     "output_type": "stream",
     "text": [
      "Topics=15, Alpha=0.5, Beta=0.1, Coherence=0.4925\n"
     ]
    },
    {
     "name": "stderr",
     "output_type": "stream",
     "text": [
      "Tuning LDA Models:  75%|██████████████████████████████▊          | 60/80 [1:51:58<50:22, 151.12s/it]"
     ]
    },
    {
     "name": "stdout",
     "output_type": "stream",
     "text": [
      "Topics=15, Alpha=0.5, Beta=0.5, Coherence=0.5422\n"
     ]
    },
    {
     "name": "stderr",
     "output_type": "stream",
     "text": [
      "Tuning LDA Models:  76%|███████████████████████████████▎         | 61/80 [1:55:08<51:36, 162.97s/it]"
     ]
    },
    {
     "name": "stdout",
     "output_type": "stream",
     "text": [
      "Topics=20, Alpha=symmetric, Beta=symmetric, Coherence=0.4908\n"
     ]
    },
    {
     "name": "stderr",
     "output_type": "stream",
     "text": [
      "Tuning LDA Models:  78%|███████████████████████████████▊         | 62/80 [1:58:32<52:32, 175.12s/it]"
     ]
    },
    {
     "name": "stdout",
     "output_type": "stream",
     "text": [
      "Topics=20, Alpha=symmetric, Beta=0.01, Coherence=0.4941\n"
     ]
    },
    {
     "name": "stderr",
     "output_type": "stream",
     "text": [
      "Tuning LDA Models:  79%|████████████████████████████████▎        | 63/80 [2:01:26<49:34, 174.99s/it]"
     ]
    },
    {
     "name": "stdout",
     "output_type": "stream",
     "text": [
      "Topics=20, Alpha=symmetric, Beta=0.1, Coherence=0.4780\n"
     ]
    },
    {
     "name": "stderr",
     "output_type": "stream",
     "text": [
      "Tuning LDA Models:  80%|████████████████████████████████▊        | 64/80 [2:04:28<47:13, 177.07s/it]"
     ]
    },
    {
     "name": "stdout",
     "output_type": "stream",
     "text": [
      "Topics=20, Alpha=symmetric, Beta=0.5, Coherence=0.5493\n"
     ]
    },
    {
     "name": "stderr",
     "output_type": "stream",
     "text": [
      "Tuning LDA Models:  81%|█████████████████████████████████▎       | 65/80 [2:07:37<45:08, 180.59s/it]"
     ]
    },
    {
     "name": "stdout",
     "output_type": "stream",
     "text": [
      "Topics=20, Alpha=asymmetric, Beta=symmetric, Coherence=0.4863\n"
     ]
    },
    {
     "name": "stderr",
     "output_type": "stream",
     "text": [
      "Tuning LDA Models:  82%|█████████████████████████████████▊       | 66/80 [2:10:49<42:53, 183.84s/it]"
     ]
    },
    {
     "name": "stdout",
     "output_type": "stream",
     "text": [
      "Topics=20, Alpha=asymmetric, Beta=0.01, Coherence=0.4925\n"
     ]
    },
    {
     "name": "stderr",
     "output_type": "stream",
     "text": [
      "Tuning LDA Models:  84%|██████████████████████████████████▎      | 67/80 [2:13:45<39:21, 181.65s/it]"
     ]
    },
    {
     "name": "stdout",
     "output_type": "stream",
     "text": [
      "Topics=20, Alpha=asymmetric, Beta=0.1, Coherence=0.4808\n"
     ]
    },
    {
     "name": "stderr",
     "output_type": "stream",
     "text": [
      "Tuning LDA Models:  85%|██████████████████████████████████▊      | 68/80 [2:16:46<36:17, 181.45s/it]"
     ]
    },
    {
     "name": "stdout",
     "output_type": "stream",
     "text": [
      "Topics=20, Alpha=asymmetric, Beta=0.5, Coherence=0.5290\n"
     ]
    },
    {
     "name": "stderr",
     "output_type": "stream",
     "text": [
      "Tuning LDA Models:  86%|███████████████████████████████████▎     | 69/80 [2:19:55<33:41, 183.76s/it]"
     ]
    },
    {
     "name": "stdout",
     "output_type": "stream",
     "text": [
      "Topics=20, Alpha=0.01, Beta=symmetric, Coherence=0.4808\n"
     ]
    },
    {
     "name": "stderr",
     "output_type": "stream",
     "text": [
      "Tuning LDA Models:  88%|███████████████████████████████████▉     | 70/80 [2:23:12<31:16, 187.60s/it]"
     ]
    },
    {
     "name": "stdout",
     "output_type": "stream",
     "text": [
      "Topics=20, Alpha=0.01, Beta=0.01, Coherence=0.4969\n"
     ]
    },
    {
     "name": "stderr",
     "output_type": "stream",
     "text": [
      "Tuning LDA Models:  89%|████████████████████████████████████▍    | 71/80 [2:26:11<27:45, 185.03s/it]"
     ]
    },
    {
     "name": "stdout",
     "output_type": "stream",
     "text": [
      "Topics=20, Alpha=0.01, Beta=0.1, Coherence=0.4865\n"
     ]
    },
    {
     "name": "stderr",
     "output_type": "stream",
     "text": [
      "Tuning LDA Models:  90%|████████████████████████████████████▉    | 72/80 [2:29:23<24:56, 187.12s/it]"
     ]
    },
    {
     "name": "stdout",
     "output_type": "stream",
     "text": [
      "Topics=20, Alpha=0.01, Beta=0.5, Coherence=0.5332\n"
     ]
    },
    {
     "name": "stderr",
     "output_type": "stream",
     "text": [
      "Tuning LDA Models:  91%|█████████████████████████████████████▍   | 73/80 [2:32:40<22:09, 189.98s/it]"
     ]
    },
    {
     "name": "stdout",
     "output_type": "stream",
     "text": [
      "Topics=20, Alpha=0.1, Beta=symmetric, Coherence=0.4908\n"
     ]
    },
    {
     "name": "stderr",
     "output_type": "stream",
     "text": [
      "Tuning LDA Models:  92%|█████████████████████████████████████▉   | 74/80 [2:35:54<19:08, 191.45s/it]"
     ]
    },
    {
     "name": "stdout",
     "output_type": "stream",
     "text": [
      "Topics=20, Alpha=0.1, Beta=0.01, Coherence=0.5004\n"
     ]
    },
    {
     "name": "stderr",
     "output_type": "stream",
     "text": [
      "Tuning LDA Models:  94%|██████████████████████████████████████▍  | 75/80 [2:38:52<15:36, 187.23s/it]"
     ]
    },
    {
     "name": "stdout",
     "output_type": "stream",
     "text": [
      "Topics=20, Alpha=0.1, Beta=0.1, Coherence=0.4807\n"
     ]
    },
    {
     "name": "stderr",
     "output_type": "stream",
     "text": [
      "Tuning LDA Models:  95%|██████████████████████████████████████▉  | 76/80 [2:41:58<12:28, 187.05s/it]"
     ]
    },
    {
     "name": "stdout",
     "output_type": "stream",
     "text": [
      "Topics=20, Alpha=0.1, Beta=0.5, Coherence=0.5441\n"
     ]
    },
    {
     "name": "stderr",
     "output_type": "stream",
     "text": [
      "Tuning LDA Models:  96%|███████████████████████████████████████▍ | 77/80 [2:45:09<09:24, 188.22s/it]"
     ]
    },
    {
     "name": "stdout",
     "output_type": "stream",
     "text": [
      "Topics=20, Alpha=0.5, Beta=symmetric, Coherence=0.5085\n"
     ]
    },
    {
     "name": "stderr",
     "output_type": "stream",
     "text": [
      "Tuning LDA Models:  98%|███████████████████████████████████████▉ | 78/80 [2:48:26<06:21, 190.71s/it]"
     ]
    },
    {
     "name": "stdout",
     "output_type": "stream",
     "text": [
      "Topics=20, Alpha=0.5, Beta=0.01, Coherence=0.5202\n"
     ]
    },
    {
     "name": "stderr",
     "output_type": "stream",
     "text": [
      "Tuning LDA Models:  99%|████████████████████████████████████████▍| 79/80 [2:51:20<03:05, 185.64s/it]"
     ]
    },
    {
     "name": "stdout",
     "output_type": "stream",
     "text": [
      "Topics=20, Alpha=0.5, Beta=0.1, Coherence=0.4974\n"
     ]
    },
    {
     "name": "stderr",
     "output_type": "stream",
     "text": [
      "Tuning LDA Models: 100%|█████████████████████████████████████████| 80/80 [2:54:27<00:00, 130.84s/it]"
     ]
    },
    {
     "name": "stdout",
     "output_type": "stream",
     "text": [
      "Topics=20, Alpha=0.5, Beta=0.5, Coherence=0.4839\n"
     ]
    },
    {
     "name": "stderr",
     "output_type": "stream",
     "text": [
      "\n"
     ]
    }
   ],
   "source": [
    "from itertools import product\n",
    "\n",
    "# Function to train and evaluate LDA with different parameters\n",
    "def tune_lda(dictionary, corpus, texts, num_topics_list, alpha_list, beta_list):\n",
    "    best_model = None\n",
    "    best_coherence = 0\n",
    "    results = []\n",
    "\n",
    "    # Create a list of all parameter combinations\n",
    "    param_combinations = list(product(num_topics_list, alpha_list, beta_list))\n",
    "\n",
    "\n",
    "    # Wrap the param combinations in tqdm\n",
    "    for num_topics, alpha, beta in tqdm(param_combinations, desc=\"Tuning LDA Models\", ncols=100):\n",
    "        lda_model = LdaModel(\n",
    "            corpus=corpus,\n",
    "            id2word=dictionary,\n",
    "            num_topics=num_topics,\n",
    "            random_state=42,\n",
    "            update_every=1,\n",
    "            chunksize=100,\n",
    "            passes=10,\n",
    "            alpha=alpha,\n",
    "            eta=beta\n",
    "        )\n",
    "\n",
    "        # Compute Coherence Score\n",
    "        coherence_model_lda = CoherenceModel(model=lda_model, texts=texts, dictionary=dictionary, coherence='c_v')\n",
    "        coherence_score = coherence_model_lda.get_coherence()\n",
    "\n",
    "        tqdm.write(f\"Topics={num_topics}, Alpha={alpha}, Beta={beta}, Coherence={coherence_score:.4f}\")\n",
    "\n",
    "        results.append((num_topics, alpha, beta, coherence_score))\n",
    "\n",
    "        # Track best model\n",
    "        if coherence_score > best_coherence:\n",
    "                best_model = lda_model\n",
    "                best_coherence = coherence_score\n",
    "\n",
    "    return best_model, results\n",
    "\n",
    "# Define parameter search space\n",
    "num_topics_list = [5, 10, 15, 20]   # 10 as the intended number of topics\n",
    "alpha_list = ['symmetric', 'asymmetric', 0.01, 0.1, 0.5]  # Test different alpha values\n",
    "beta_list = ['symmetric', 0.01, 0.1, 0.5]  # Test different beta values\n",
    "\n",
    "# Run LDA tuning\n",
    "best_lda, lda_results = tune_lda(dictionary, corpus, tokenized_texts, num_topics_list, alpha_list, beta_list)\n"
   ]
  },
  {
   "cell_type": "code",
   "execution_count": 20,
   "id": "d4d364f0",
   "metadata": {},
   "outputs": [
    {
     "name": "stdout",
     "output_type": "stream",
     "text": [
      "    Num Topics       Alpha Beta  Coherence Score\n",
      "63          20   symmetric  0.5         0.549276\n",
      "75          20         0.1  0.5         0.544093\n",
      "59          15         0.5  0.5         0.542220\n",
      "47          15  asymmetric  0.5         0.541840\n",
      "51          15        0.01  0.5         0.534239\n"
     ]
    }
   ],
   "source": [
    "# Record and Analyze Results\n",
    "\n",
    "# Convert results to a DataFrame\n",
    "lda_results_df = pd.DataFrame(lda_results, columns=[\"Num Topics\", \"Alpha\", \"Beta\", \"Coherence Score\"])\n",
    "\n",
    "# Sort by best coherence score\n",
    "lda_results_df = lda_results_df.sort_values(by=\"Coherence Score\", ascending=False)\n",
    "\n",
    "# Display top 5 results\n",
    "print(lda_results_df.head())"
   ]
  },
  {
   "cell_type": "code",
   "execution_count": 21,
   "id": "7e9411f0",
   "metadata": {},
   "outputs": [],
   "source": [
    "#save lda model\n",
    "best_lda.save(\"best_lda_model_Convo_GSAi_Topic_Model_v3.model\")\n",
    "\n",
    "#save dicitonary\n",
    "dictionary.save(\"lda_dictionary.dict\")\n",
    "\n",
    "#save corpus\n",
    "gensim.corpora.MmCorpus.serialize(\"lda_corpus.mm\", corpus)\n"
   ]
  },
  {
   "cell_type": "code",
   "execution_count": 22,
   "id": "a77eb840",
   "metadata": {},
   "outputs": [],
   "source": [
    "########################################\n",
    "### LDAvis Topic Model Visualization ###\n",
    "########################################"
   ]
  },
  {
   "cell_type": "code",
   "execution_count": 23,
   "id": "f1269123",
   "metadata": {},
   "outputs": [
    {
     "name": "stdout",
     "output_type": "stream",
     "text": [
      "LDAvis HTML saved. Open 'lda_topics_visualization_Convo_GSAi_Topic_Model_v3.html' to explore topics.\n"
     ]
    }
   ],
   "source": [
    "import pyLDAvis\n",
    "import pyLDAvis.gensim_models as gensimvis\n",
    "# Prepare the LDA visualization based off of best LDA model with num_topics=10, alpha='0.5', and beta=0.5\n",
    "lda_display = gensimvis.prepare(best_lda, corpus, dictionary, sort_topics=False)\n",
    "\n",
    "# Show LDA visualization\n",
    "pyLDAvis.display(lda_display)\n",
    "\n",
    "pyLDAvis.save_html(lda_display, \"lda_topics_visualization_Convo_GSAi_Topic_Model_v3.html\")\n",
    "print(\"LDAvis HTML saved. Open 'lda_topics_visualization_Convo_GSAi_Topic_Model_v3.html' to explore topics.\")"
   ]
  },
  {
   "cell_type": "code",
   "execution_count": 24,
   "id": "2c499c64",
   "metadata": {},
   "outputs": [
    {
     "name": "stdout",
     "output_type": "stream",
     "text": [
      "    Topic_0   Topic_1   Topic_2   Topic_3   Topic_4   Topic_5   Topic_6  \\\n",
      "0  0.003573  0.003573  0.003573  0.003573  0.003573  0.003573  0.003573   \n",
      "1  0.007144  0.007144  0.007144  0.007144  0.721110  0.007144  0.007144   \n",
      "2  0.226762  0.000306  0.015721  0.000306  0.000306  0.000306  0.000306   \n",
      "3  0.012517  0.293884  0.012517  0.012517  0.012517  0.012517  0.012517   \n",
      "4  0.000556  0.000556  0.000556  0.000556  0.000556  0.398333  0.427426   \n",
      "\n",
      "    Topic_7   Topic_8   Topic_9  ...  Topic_11  Topic_12  Topic_13  Topic_14  \\\n",
      "0  0.003573  0.003573  0.003573  ...  0.003573  0.238198  0.003573  0.003573   \n",
      "1  0.007144  0.007144  0.007144  ...  0.007144  0.150306  0.007144  0.007144   \n",
      "2  0.014544  0.609944  0.000306  ...  0.000306  0.000306  0.000306  0.128443   \n",
      "3  0.012517  0.480805  0.012517  ...  0.012517  0.012517  0.012517  0.012517   \n",
      "4  0.000556  0.000556  0.000556  ...  0.000556  0.000556  0.000556  0.000556   \n",
      "\n",
      "   Topic_15  Topic_16  Topic_17  Topic_18  Topic_19  Document_ID  \n",
      "0  0.003573  0.003573  0.003573  0.697479  0.003573            0  \n",
      "1  0.007144  0.007144  0.007144  0.007144  0.007144            1  \n",
      "2  0.000306  0.000306  0.000306  0.000306  0.000306            2  \n",
      "3  0.012517  0.012517  0.012517  0.012517  0.012517            3  \n",
      "4  0.000556  0.000556  0.000556  0.000556  0.000556            4  \n",
      "\n",
      "[5 rows x 21 columns]\n"
     ]
    }
   ],
   "source": [
    "# Get topic distributions for each document\n",
    "doc_topics = best_lda.get_document_topics(corpus, minimum_probability=0)\n",
    "\n",
    "# Convert to a DataFrame\n",
    "topic_matrix = pd.DataFrame([[tup[1] for tup in doc] for doc in doc_topics])\n",
    "\n",
    "# Rename columns to \"Topic_0\", \"Topic_1\", ..., \"Topic_N\"\n",
    "topic_matrix.columns = [f'Topic_{i}' for i in range(best_lda.num_topics)]\n",
    "\n",
    "# Add Document ID (if available)\n",
    "topic_matrix['Document_ID'] = range(len(topic_matrix))\n",
    "\n",
    "# Check the output\n",
    "print(topic_matrix.head())\n"
   ]
  },
  {
   "cell_type": "code",
   "execution_count": 25,
   "id": "5f674a12",
   "metadata": {},
   "outputs": [
    {
     "name": "stdout",
     "output_type": "stream",
     "text": [
      "   Document_ID  Dominant_Topic\n",
      "0            0              18\n",
      "1            1               4\n",
      "2            2               8\n",
      "3            3               8\n",
      "4            4               6\n"
     ]
    }
   ],
   "source": [
    "# Assign most dominant topic\n",
    "topic_matrix['Dominant_Topic'] = topic_matrix.iloc[:, :-1].idxmax(axis=1)\n",
    "\n",
    "# Convert \"Topic_0\" → 0, \"Topic_1\" → 1, etc.\n",
    "topic_matrix['Dominant_Topic'] = topic_matrix['Dominant_Topic'].apply(lambda x: int(x.split('_')[1]))\n",
    "\n",
    "print(topic_matrix[['Document_ID', 'Dominant_Topic']].head())\n"
   ]
  },
  {
   "cell_type": "code",
   "execution_count": 26,
   "id": "982e632f",
   "metadata": {},
   "outputs": [
    {
     "name": "stdout",
     "output_type": "stream",
     "text": [
      "     Word_0   Word_1     Word_2       Word_3        Word_4         Word_5  \\\n",
      "0     datum   system        use         tool          user        support   \n",
      "1  building   system  equipment       repair   requirement           cost   \n",
      "2   varchar      sql       join   sql_select      equation  else_null_end   \n",
      "3  security  fedramp    control  requirement        agency         system   \n",
      "4  specific  provide       help        email  professional    information   \n",
      "\n",
      "         Word_6      Word_7        Word_8                    Word_9  \n",
      "0    management  capability   integration                   feature  \n",
      "1  construction      design  installation                  material  \n",
      "2  varchar_null       mysql     tablename  manufacturer_description  \n",
      "3       service       check       include                       csp  \n",
      "4       context         use      response                      make  \n"
     ]
    }
   ],
   "source": [
    "# Get top words for each topic\n",
    "topic_words = {i: [word for word, _ in best_lda.show_topic(i, topn=10)] for i in range(best_lda.num_topics)}\n",
    "\n",
    "# Convert to DataFrame\n",
    "topic_word_df = pd.DataFrame.from_dict(topic_words, orient='index', columns=[f'Word_{i}' for i in range(10)])\n",
    "\n",
    "print(topic_word_df.head())\n"
   ]
  },
  {
   "cell_type": "code",
   "execution_count": 27,
   "id": "477882f5",
   "metadata": {},
   "outputs": [],
   "source": [
    "topic_matrix.to_csv(\"document_topic_matrix_Convo_GSAi_Topic_Model_v3.csv\", index=False)\n",
    "topic_word_df.to_csv(\"topic_word_distribution_Convo_GSAi_Topic_Model_v3.csv\", index=True)\n"
   ]
  },
  {
   "cell_type": "code",
   "execution_count": 28,
   "id": "78386bf2",
   "metadata": {},
   "outputs": [
    {
     "name": "stdout",
     "output_type": "stream",
     "text": [
      "Topic 0: 493 documents\n",
      "Topic 1: 564 documents\n",
      "Topic 2: 23 documents\n",
      "Topic 3: 174 documents\n",
      "Topic 4: 1128 documents\n",
      "Topic 5: 957 documents\n",
      "Topic 6: 1203 documents\n",
      "Topic 7: 709 documents\n",
      "Topic 8: 643 documents\n",
      "Topic 9: 4 documents\n",
      "Topic 10: 586 documents\n",
      "Topic 11: 122 documents\n",
      "Topic 12: 251 documents\n",
      "Topic 13: 47 documents\n",
      "Topic 14: 35 documents\n",
      "Topic 15: 32 documents\n",
      "Topic 16: 6 documents\n",
      "Topic 17: 497 documents\n",
      "Topic 18: 487 documents\n",
      "Topic 19: 1037 documents\n"
     ]
    }
   ],
   "source": [
    "# Get the dominant topic for each document\n",
    "topics_per_doc = [max(best_lda[doc], key=lambda x: x[1])[0] for doc in corpus]\n",
    "\n",
    "# Count the occurrences of each topic\n",
    "from collections import Counter\n",
    "topic_counts = Counter(topics_per_doc)\n",
    "\n",
    "# Print topic distribution\n",
    "for topic_id, count in sorted(topic_counts.items()):\n",
    "    print(f\"Topic {topic_id}: {count} documents\")\n"
   ]
  },
  {
   "cell_type": "code",
   "execution_count": 29,
   "id": "5fa77870",
   "metadata": {},
   "outputs": [
    {
     "name": "stdout",
     "output_type": "stream",
     "text": [
      "   Document_ID                                                 id  \\\n",
      "0            0  3885142785318887854463095736073954673104784766...   \n",
      "1            1  3885145046614450985468282409518322085068555882...   \n",
      "2            2  3885164796154398804188137626652806847375864661...   \n",
      "3            3  3885167008388322498425953384681284618048390749...   \n",
      "4            4  3885179554787571191754533493849350514848268008...   \n",
      "\n",
      "                                              prompt  \\\n",
      "0  Here's a joke for you:\\n\\nWhy don't scientists...   \n",
      "1  Please tell me the capital of France. Please w...   \n",
      "2  Rust diesel postgresql I'll provide an overvie...   \n",
      "3      git fetch hanging, how do i check credentials   \n",
      "4  what is the gsa geco contract I want to be tra...   \n",
      "\n",
      "                                     cleaned_prompts  text_length   Topic_0  \\\n",
      "0  here joke scientist trust atom make everything...           14  0.003573   \n",
      "1  please tell capital france please write senten...            8  0.007144   \n",
      "2  rust diesel postgresql ill provide overview us...          238  0.226762   \n",
      "3                    git fetch hang check credential            5  0.012517   \n",
      "4  gsa geco contract want transparent provide gen...          116  0.000556   \n",
      "\n",
      "    Topic_1   Topic_2   Topic_3   Topic_4  ...  Topic_11  Topic_12  Topic_13  \\\n",
      "0  0.003573  0.003573  0.003573  0.003573  ...  0.003573  0.238198  0.003573   \n",
      "1  0.007144  0.007144  0.007144  0.721110  ...  0.007144  0.150306  0.007144   \n",
      "2  0.000306  0.015721  0.000306  0.000306  ...  0.000306  0.000306  0.000306   \n",
      "3  0.293884  0.012517  0.012517  0.012517  ...  0.012517  0.012517  0.012517   \n",
      "4  0.000556  0.000556  0.000556  0.000556  ...  0.000556  0.000556  0.000556   \n",
      "\n",
      "   Topic_14  Topic_15  Topic_16  Topic_17  Topic_18  Topic_19  Dominant_Topic  \n",
      "0  0.003573  0.003573  0.003573  0.003573  0.697479  0.003573            18.0  \n",
      "1  0.007144  0.007144  0.007144  0.007144  0.007144  0.007144             4.0  \n",
      "2  0.128443  0.000306  0.000306  0.000306  0.000306  0.000306             8.0  \n",
      "3  0.012517  0.012517  0.012517  0.012517  0.012517  0.012517             8.0  \n",
      "4  0.000556  0.000556  0.000556  0.000556  0.000556  0.000556             6.0  \n",
      "\n",
      "[5 rows x 26 columns]\n"
     ]
    }
   ],
   "source": [
    "#Merge main df and topic_df\n",
    "# Ensure main_df has a Document_ID column\n",
    "main_df = convo_df.reset_index().rename(columns={\"index\": \"Document_ID\"})\n",
    "\n",
    "# Merge main_df with topic_df\n",
    "merged_df = main_df.merge(topic_matrix, on=\"Document_ID\", how=\"left\")\n",
    "\n",
    "# Check the first few rows\n",
    "print(merged_df.head())\n"
   ]
  },
  {
   "cell_type": "code",
   "execution_count": 30,
   "id": "6c1c8179",
   "metadata": {},
   "outputs": [
    {
     "data": {
      "text/html": [
       "<div>\n",
       "<style scoped>\n",
       "    .dataframe tbody tr th:only-of-type {\n",
       "        vertical-align: middle;\n",
       "    }\n",
       "\n",
       "    .dataframe tbody tr th {\n",
       "        vertical-align: top;\n",
       "    }\n",
       "\n",
       "    .dataframe thead th {\n",
       "        text-align: right;\n",
       "    }\n",
       "</style>\n",
       "<table border=\"1\" class=\"dataframe\">\n",
       "  <thead>\n",
       "    <tr style=\"text-align: right;\">\n",
       "      <th></th>\n",
       "      <th>Document_ID</th>\n",
       "      <th>id</th>\n",
       "      <th>prompt</th>\n",
       "      <th>cleaned_prompts</th>\n",
       "      <th>text_length</th>\n",
       "      <th>Topic_0</th>\n",
       "      <th>Topic_1</th>\n",
       "      <th>Topic_2</th>\n",
       "      <th>Topic_3</th>\n",
       "      <th>Topic_4</th>\n",
       "      <th>...</th>\n",
       "      <th>Topic_11</th>\n",
       "      <th>Topic_12</th>\n",
       "      <th>Topic_13</th>\n",
       "      <th>Topic_14</th>\n",
       "      <th>Topic_15</th>\n",
       "      <th>Topic_16</th>\n",
       "      <th>Topic_17</th>\n",
       "      <th>Topic_18</th>\n",
       "      <th>Topic_19</th>\n",
       "      <th>Dominant_Topic</th>\n",
       "    </tr>\n",
       "  </thead>\n",
       "  <tbody>\n",
       "    <tr>\n",
       "      <th>0</th>\n",
       "      <td>0</td>\n",
       "      <td>3885142785318887854463095736073954673104784766...</td>\n",
       "      <td>Here's a joke for you:\\n\\nWhy don't scientists...</td>\n",
       "      <td>here joke scientist trust atom make everything...</td>\n",
       "      <td>14</td>\n",
       "      <td>0.003573</td>\n",
       "      <td>0.003573</td>\n",
       "      <td>0.003573</td>\n",
       "      <td>0.003573</td>\n",
       "      <td>0.003573</td>\n",
       "      <td>...</td>\n",
       "      <td>0.003573</td>\n",
       "      <td>0.238198</td>\n",
       "      <td>0.003573</td>\n",
       "      <td>0.003573</td>\n",
       "      <td>0.003573</td>\n",
       "      <td>0.003573</td>\n",
       "      <td>0.003573</td>\n",
       "      <td>0.697479</td>\n",
       "      <td>0.003573</td>\n",
       "      <td>18.0</td>\n",
       "    </tr>\n",
       "    <tr>\n",
       "      <th>1</th>\n",
       "      <td>1</td>\n",
       "      <td>3885145046614450985468282409518322085068555882...</td>\n",
       "      <td>Please tell me the capital of France. Please w...</td>\n",
       "      <td>please tell capital france please write senten...</td>\n",
       "      <td>8</td>\n",
       "      <td>0.007144</td>\n",
       "      <td>0.007144</td>\n",
       "      <td>0.007144</td>\n",
       "      <td>0.007144</td>\n",
       "      <td>0.721110</td>\n",
       "      <td>...</td>\n",
       "      <td>0.007144</td>\n",
       "      <td>0.150306</td>\n",
       "      <td>0.007144</td>\n",
       "      <td>0.007144</td>\n",
       "      <td>0.007144</td>\n",
       "      <td>0.007144</td>\n",
       "      <td>0.007144</td>\n",
       "      <td>0.007144</td>\n",
       "      <td>0.007144</td>\n",
       "      <td>4.0</td>\n",
       "    </tr>\n",
       "    <tr>\n",
       "      <th>2</th>\n",
       "      <td>2</td>\n",
       "      <td>3885164796154398804188137626652806847375864661...</td>\n",
       "      <td>Rust diesel postgresql I'll provide an overvie...</td>\n",
       "      <td>rust diesel postgresql ill provide overview us...</td>\n",
       "      <td>238</td>\n",
       "      <td>0.226762</td>\n",
       "      <td>0.000306</td>\n",
       "      <td>0.015721</td>\n",
       "      <td>0.000306</td>\n",
       "      <td>0.000306</td>\n",
       "      <td>...</td>\n",
       "      <td>0.000306</td>\n",
       "      <td>0.000306</td>\n",
       "      <td>0.000306</td>\n",
       "      <td>0.128443</td>\n",
       "      <td>0.000306</td>\n",
       "      <td>0.000306</td>\n",
       "      <td>0.000306</td>\n",
       "      <td>0.000306</td>\n",
       "      <td>0.000306</td>\n",
       "      <td>8.0</td>\n",
       "    </tr>\n",
       "    <tr>\n",
       "      <th>3</th>\n",
       "      <td>3</td>\n",
       "      <td>3885167008388322498425953384681284618048390749...</td>\n",
       "      <td>git fetch hanging, how do i check credentials</td>\n",
       "      <td>git fetch hang check credential</td>\n",
       "      <td>5</td>\n",
       "      <td>0.012517</td>\n",
       "      <td>0.293884</td>\n",
       "      <td>0.012517</td>\n",
       "      <td>0.012517</td>\n",
       "      <td>0.012517</td>\n",
       "      <td>...</td>\n",
       "      <td>0.012517</td>\n",
       "      <td>0.012517</td>\n",
       "      <td>0.012517</td>\n",
       "      <td>0.012517</td>\n",
       "      <td>0.012517</td>\n",
       "      <td>0.012517</td>\n",
       "      <td>0.012517</td>\n",
       "      <td>0.012517</td>\n",
       "      <td>0.012517</td>\n",
       "      <td>8.0</td>\n",
       "    </tr>\n",
       "    <tr>\n",
       "      <th>4</th>\n",
       "      <td>4</td>\n",
       "      <td>3885179554787571191754533493849350514848268008...</td>\n",
       "      <td>what is the gsa geco contract I want to be tra...</td>\n",
       "      <td>gsa geco contract want transparent provide gen...</td>\n",
       "      <td>116</td>\n",
       "      <td>0.000556</td>\n",
       "      <td>0.000556</td>\n",
       "      <td>0.000556</td>\n",
       "      <td>0.000556</td>\n",
       "      <td>0.000556</td>\n",
       "      <td>...</td>\n",
       "      <td>0.000556</td>\n",
       "      <td>0.000556</td>\n",
       "      <td>0.000556</td>\n",
       "      <td>0.000556</td>\n",
       "      <td>0.000556</td>\n",
       "      <td>0.000556</td>\n",
       "      <td>0.000556</td>\n",
       "      <td>0.000556</td>\n",
       "      <td>0.000556</td>\n",
       "      <td>6.0</td>\n",
       "    </tr>\n",
       "    <tr>\n",
       "      <th>...</th>\n",
       "      <td>...</td>\n",
       "      <td>...</td>\n",
       "      <td>...</td>\n",
       "      <td>...</td>\n",
       "      <td>...</td>\n",
       "      <td>...</td>\n",
       "      <td>...</td>\n",
       "      <td>...</td>\n",
       "      <td>...</td>\n",
       "      <td>...</td>\n",
       "      <td>...</td>\n",
       "      <td>...</td>\n",
       "      <td>...</td>\n",
       "      <td>...</td>\n",
       "      <td>...</td>\n",
       "      <td>...</td>\n",
       "      <td>...</td>\n",
       "      <td>...</td>\n",
       "      <td>...</td>\n",
       "      <td>...</td>\n",
       "      <td>...</td>\n",
       "    </tr>\n",
       "    <tr>\n",
       "      <th>8993</th>\n",
       "      <td>9112</td>\n",
       "      <td>3888017280012593816488201464119161159292872242...</td>\n",
       "      <td>can you rewrite this email: Good Afternoon Gre...</td>\n",
       "      <td>rewrite email good afternoon greg please provi...</td>\n",
       "      <td>33</td>\n",
       "      <td>NaN</td>\n",
       "      <td>NaN</td>\n",
       "      <td>NaN</td>\n",
       "      <td>NaN</td>\n",
       "      <td>NaN</td>\n",
       "      <td>...</td>\n",
       "      <td>NaN</td>\n",
       "      <td>NaN</td>\n",
       "      <td>NaN</td>\n",
       "      <td>NaN</td>\n",
       "      <td>NaN</td>\n",
       "      <td>NaN</td>\n",
       "      <td>NaN</td>\n",
       "      <td>NaN</td>\n",
       "      <td>NaN</td>\n",
       "      <td>NaN</td>\n",
       "    </tr>\n",
       "    <tr>\n",
       "      <th>8994</th>\n",
       "      <td>9113</td>\n",
       "      <td>3888017375905798170169880977568340869908082260...</td>\n",
       "      <td>who won the superbowl this year Based on the c...</td>\n",
       "      <td>superbowl year base current date february kans...</td>\n",
       "      <td>735</td>\n",
       "      <td>NaN</td>\n",
       "      <td>NaN</td>\n",
       "      <td>NaN</td>\n",
       "      <td>NaN</td>\n",
       "      <td>NaN</td>\n",
       "      <td>...</td>\n",
       "      <td>NaN</td>\n",
       "      <td>NaN</td>\n",
       "      <td>NaN</td>\n",
       "      <td>NaN</td>\n",
       "      <td>NaN</td>\n",
       "      <td>NaN</td>\n",
       "      <td>NaN</td>\n",
       "      <td>NaN</td>\n",
       "      <td>NaN</td>\n",
       "      <td>NaN</td>\n",
       "    </tr>\n",
       "    <tr>\n",
       "      <th>8995</th>\n",
       "      <td>9114</td>\n",
       "      <td>3888017387056170769435192549546222701834619006...</td>\n",
       "      <td>generate a letter for dos to give to our contr...</td>\n",
       "      <td>generate letter do give contractor</td>\n",
       "      <td>5</td>\n",
       "      <td>NaN</td>\n",
       "      <td>NaN</td>\n",
       "      <td>NaN</td>\n",
       "      <td>NaN</td>\n",
       "      <td>NaN</td>\n",
       "      <td>...</td>\n",
       "      <td>NaN</td>\n",
       "      <td>NaN</td>\n",
       "      <td>NaN</td>\n",
       "      <td>NaN</td>\n",
       "      <td>NaN</td>\n",
       "      <td>NaN</td>\n",
       "      <td>NaN</td>\n",
       "      <td>NaN</td>\n",
       "      <td>NaN</td>\n",
       "      <td>NaN</td>\n",
       "    </tr>\n",
       "    <tr>\n",
       "      <th>8996</th>\n",
       "      <td>9115</td>\n",
       "      <td>3888017400436617888553566434467653665423635910...</td>\n",
       "      <td>Unit #1 AC serving south side of building not ...</td>\n",
       "      <td>unit serve south side build work</td>\n",
       "      <td>6</td>\n",
       "      <td>NaN</td>\n",
       "      <td>NaN</td>\n",
       "      <td>NaN</td>\n",
       "      <td>NaN</td>\n",
       "      <td>NaN</td>\n",
       "      <td>...</td>\n",
       "      <td>NaN</td>\n",
       "      <td>NaN</td>\n",
       "      <td>NaN</td>\n",
       "      <td>NaN</td>\n",
       "      <td>NaN</td>\n",
       "      <td>NaN</td>\n",
       "      <td>NaN</td>\n",
       "      <td>NaN</td>\n",
       "      <td>NaN</td>\n",
       "      <td>NaN</td>\n",
       "    </tr>\n",
       "    <tr>\n",
       "      <th>8997</th>\n",
       "      <td>9116</td>\n",
       "      <td>3888017402666692408406628748621225492688472060...</td>\n",
       "      <td>Please describe GSA OGC’s core mission and vision</td>\n",
       "      <td>please describe gsa ogcs core mission vision</td>\n",
       "      <td>7</td>\n",
       "      <td>NaN</td>\n",
       "      <td>NaN</td>\n",
       "      <td>NaN</td>\n",
       "      <td>NaN</td>\n",
       "      <td>NaN</td>\n",
       "      <td>...</td>\n",
       "      <td>NaN</td>\n",
       "      <td>NaN</td>\n",
       "      <td>NaN</td>\n",
       "      <td>NaN</td>\n",
       "      <td>NaN</td>\n",
       "      <td>NaN</td>\n",
       "      <td>NaN</td>\n",
       "      <td>NaN</td>\n",
       "      <td>NaN</td>\n",
       "      <td>NaN</td>\n",
       "    </tr>\n",
       "  </tbody>\n",
       "</table>\n",
       "<p>8998 rows × 26 columns</p>\n",
       "</div>"
      ],
      "text/plain": [
       "      Document_ID                                                 id  \\\n",
       "0               0  3885142785318887854463095736073954673104784766...   \n",
       "1               1  3885145046614450985468282409518322085068555882...   \n",
       "2               2  3885164796154398804188137626652806847375864661...   \n",
       "3               3  3885167008388322498425953384681284618048390749...   \n",
       "4               4  3885179554787571191754533493849350514848268008...   \n",
       "...           ...                                                ...   \n",
       "8993         9112  3888017280012593816488201464119161159292872242...   \n",
       "8994         9113  3888017375905798170169880977568340869908082260...   \n",
       "8995         9114  3888017387056170769435192549546222701834619006...   \n",
       "8996         9115  3888017400436617888553566434467653665423635910...   \n",
       "8997         9116  3888017402666692408406628748621225492688472060...   \n",
       "\n",
       "                                                 prompt  \\\n",
       "0     Here's a joke for you:\\n\\nWhy don't scientists...   \n",
       "1     Please tell me the capital of France. Please w...   \n",
       "2     Rust diesel postgresql I'll provide an overvie...   \n",
       "3         git fetch hanging, how do i check credentials   \n",
       "4     what is the gsa geco contract I want to be tra...   \n",
       "...                                                 ...   \n",
       "8993  can you rewrite this email: Good Afternoon Gre...   \n",
       "8994  who won the superbowl this year Based on the c...   \n",
       "8995  generate a letter for dos to give to our contr...   \n",
       "8996  Unit #1 AC serving south side of building not ...   \n",
       "8997  Please describe GSA OGC’s core mission and vision   \n",
       "\n",
       "                                        cleaned_prompts  text_length  \\\n",
       "0     here joke scientist trust atom make everything...           14   \n",
       "1     please tell capital france please write senten...            8   \n",
       "2     rust diesel postgresql ill provide overview us...          238   \n",
       "3                       git fetch hang check credential            5   \n",
       "4     gsa geco contract want transparent provide gen...          116   \n",
       "...                                                 ...          ...   \n",
       "8993  rewrite email good afternoon greg please provi...           33   \n",
       "8994  superbowl year base current date february kans...          735   \n",
       "8995                 generate letter do give contractor            5   \n",
       "8996                   unit serve south side build work            6   \n",
       "8997       please describe gsa ogcs core mission vision            7   \n",
       "\n",
       "       Topic_0   Topic_1   Topic_2   Topic_3   Topic_4  ...  Topic_11  \\\n",
       "0     0.003573  0.003573  0.003573  0.003573  0.003573  ...  0.003573   \n",
       "1     0.007144  0.007144  0.007144  0.007144  0.721110  ...  0.007144   \n",
       "2     0.226762  0.000306  0.015721  0.000306  0.000306  ...  0.000306   \n",
       "3     0.012517  0.293884  0.012517  0.012517  0.012517  ...  0.012517   \n",
       "4     0.000556  0.000556  0.000556  0.000556  0.000556  ...  0.000556   \n",
       "...        ...       ...       ...       ...       ...  ...       ...   \n",
       "8993       NaN       NaN       NaN       NaN       NaN  ...       NaN   \n",
       "8994       NaN       NaN       NaN       NaN       NaN  ...       NaN   \n",
       "8995       NaN       NaN       NaN       NaN       NaN  ...       NaN   \n",
       "8996       NaN       NaN       NaN       NaN       NaN  ...       NaN   \n",
       "8997       NaN       NaN       NaN       NaN       NaN  ...       NaN   \n",
       "\n",
       "      Topic_12  Topic_13  Topic_14  Topic_15  Topic_16  Topic_17  Topic_18  \\\n",
       "0     0.238198  0.003573  0.003573  0.003573  0.003573  0.003573  0.697479   \n",
       "1     0.150306  0.007144  0.007144  0.007144  0.007144  0.007144  0.007144   \n",
       "2     0.000306  0.000306  0.128443  0.000306  0.000306  0.000306  0.000306   \n",
       "3     0.012517  0.012517  0.012517  0.012517  0.012517  0.012517  0.012517   \n",
       "4     0.000556  0.000556  0.000556  0.000556  0.000556  0.000556  0.000556   \n",
       "...        ...       ...       ...       ...       ...       ...       ...   \n",
       "8993       NaN       NaN       NaN       NaN       NaN       NaN       NaN   \n",
       "8994       NaN       NaN       NaN       NaN       NaN       NaN       NaN   \n",
       "8995       NaN       NaN       NaN       NaN       NaN       NaN       NaN   \n",
       "8996       NaN       NaN       NaN       NaN       NaN       NaN       NaN   \n",
       "8997       NaN       NaN       NaN       NaN       NaN       NaN       NaN   \n",
       "\n",
       "      Topic_19  Dominant_Topic  \n",
       "0     0.003573            18.0  \n",
       "1     0.007144             4.0  \n",
       "2     0.000306             8.0  \n",
       "3     0.012517             8.0  \n",
       "4     0.000556             6.0  \n",
       "...        ...             ...  \n",
       "8993       NaN             NaN  \n",
       "8994       NaN             NaN  \n",
       "8995       NaN             NaN  \n",
       "8996       NaN             NaN  \n",
       "8997       NaN             NaN  \n",
       "\n",
       "[8998 rows x 26 columns]"
      ]
     },
     "execution_count": 30,
     "metadata": {},
     "output_type": "execute_result"
    }
   ],
   "source": [
    "merged_df"
   ]
  },
  {
   "cell_type": "code",
   "execution_count": null,
   "id": "0458a939",
   "metadata": {},
   "outputs": [],
   "source": []
  },
  {
   "cell_type": "code",
   "execution_count": null,
   "id": "6139ec9e",
   "metadata": {},
   "outputs": [],
   "source": []
  }
 ],
 "metadata": {
  "kernelspec": {
   "display_name": "cxenv",
   "language": "python",
   "name": "python3"
  },
  "language_info": {
   "codemirror_mode": {
    "name": "ipython",
    "version": 3
   },
   "file_extension": ".py",
   "mimetype": "text/x-python",
   "name": "python",
   "nbconvert_exporter": "python",
   "pygments_lexer": "ipython3",
   "version": "3.9.18"
  }
 },
 "nbformat": 4,
 "nbformat_minor": 5
}
