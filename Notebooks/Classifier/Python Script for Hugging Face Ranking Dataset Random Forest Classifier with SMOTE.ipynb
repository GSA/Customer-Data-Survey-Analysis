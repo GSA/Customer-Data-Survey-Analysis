{
 "cells": [
  {
   "cell_type": "code",
   "execution_count": null,
   "metadata": {},
   "outputs": [],
   "source": [
    "#Author: Kai Cobb\n",
    "# Purpose: Classifier test script\n",
    "# SMOTE (Synthetic Minority Over-Sampling Technique)\n",
    "#Approach: Applied SMOTE combined with random forest"
   ]
  },
  {
   "cell_type": "code",
   "execution_count": 1,
   "metadata": {},
   "outputs": [
    {
     "name": "stdout",
     "output_type": "stream",
     "text": [
      "Requirement already satisfied: pyarrow in d:\\users\\kaiecobb\\.conda\\envs\\cxenv\\lib\\site-packages (19.0.1)\n",
      "Requirement already satisfied: imblearn in d:\\users\\kaiecobb\\.conda\\envs\\cxenv\\lib\\site-packages (0.0)\n",
      "Requirement already satisfied: imbalanced-learn in d:\\users\\kaiecobb\\.conda\\envs\\cxenv\\lib\\site-packages (from imblearn) (0.12.4)\n",
      "Requirement already satisfied: numpy>=1.17.3 in d:\\users\\kaiecobb\\.conda\\envs\\cxenv\\lib\\site-packages (from imbalanced-learn->imblearn) (1.26.4)\n",
      "Requirement already satisfied: scipy>=1.5.0 in d:\\users\\kaiecobb\\.conda\\envs\\cxenv\\lib\\site-packages (from imbalanced-learn->imblearn) (1.12.0)\n",
      "Requirement already satisfied: scikit-learn>=1.0.2 in d:\\users\\kaiecobb\\.conda\\envs\\cxenv\\lib\\site-packages (from imbalanced-learn->imblearn) (1.4.1.post1)\n",
      "Requirement already satisfied: joblib>=1.1.1 in d:\\users\\kaiecobb\\.conda\\envs\\cxenv\\lib\\site-packages (from imbalanced-learn->imblearn) (1.3.2)\n",
      "Requirement already satisfied: threadpoolctl>=2.0.0 in d:\\users\\kaiecobb\\.conda\\envs\\cxenv\\lib\\site-packages (from imbalanced-learn->imblearn) (3.3.0)\n"
     ]
    },
    {
     "name": "stderr",
     "output_type": "stream",
     "text": [
      "[nltk_data] Downloading package stopwords to\n",
      "[nltk_data]     D:\\Users\\kaiecobb\\AppData\\Roaming\\nltk_data...\n",
      "[nltk_data]   Package stopwords is already up-to-date!\n"
     ]
    }
   ],
   "source": [
    "# Import necessary packages\n",
    "!pip install pyarrow\n",
    "!pip install imblearn\n",
    "\n",
    "import pandas as pd\n",
    "import re\n",
    "import nltk\n",
    "from nltk.corpus import stopwords\n",
    "from sklearn.feature_extraction.text import TfidfVectorizer\n",
    "from sklearn.model_selection import train_test_split\n",
    "from sklearn.ensemble import RandomForestClassifier\n",
    "from sklearn.metrics import classification_report\n",
    "from imblearn.over_sampling import SMOTE\n",
    "import numpy as np\n",
    "\n",
    "# Download stopwords\n",
    "nltk.download('stopwords')\n",
    "stop_words = set(stopwords.words('english'))"
   ]
  },
  {
   "cell_type": "code",
   "execution_count": 2,
   "metadata": {},
   "outputs": [],
   "source": [
    "# Load dataset\n",
    "df = pd.read_parquet(\"hugging_face_chat_data.parquet\")  # Update file path"
   ]
  },
  {
   "cell_type": "code",
   "execution_count": 3,
   "metadata": {},
   "outputs": [],
   "source": [
    "\n",
    "# Convert rankings into categorical labels\n",
    "def map_ranking_to_label(rank):\n",
    "    if rank < 3:\n",
    "        return \"low\"\n",
    "    elif 3 <= rank < 4:\n",
    "        return \"medium\"\n",
    "    else:\n",
    "        return \"high\"\n",
    "\n",
    "df['label'] = df['avg_rating'].apply(map_ranking_to_label)"
   ]
  },
  {
   "cell_type": "code",
   "execution_count": 4,
   "metadata": {},
   "outputs": [],
   "source": [
    "\n",
    "# Preprocess text\n",
    "def clean_text(text):\n",
    "    text = text.lower()\n",
    "    text = re.sub(r'\\W+', ' ', text)\n",
    "    text = ' '.join([word for word in text.split() if word not in stop_words])\n",
    "    return text\n",
    "\n",
    "df['cleaned_prompt'] = df['prompt'].astype(str).apply(clean_text)\n",
    "\n",
    "# Convert labels to numerical values\n",
    "label_mapping = {'low': 0, 'medium': 1, 'high': 2}\n",
    "df['label'] = df['label'].map(label_mapping)"
   ]
  },
  {
   "cell_type": "code",
   "execution_count": 5,
   "metadata": {},
   "outputs": [
    {
     "name": "stdout",
     "output_type": "stream",
     "text": [
      "Class distribution after SMOTE: {0: 4814, 1: 4814, 2: 4814}\n",
      "              precision    recall  f1-score   support\n",
      "\n",
      "         Low       0.25      0.24      0.24       305\n",
      "      Medium       0.39      0.37      0.38       594\n",
      "        High       0.68      0.71      0.69      1168\n",
      "\n",
      "    accuracy                           0.54      2067\n",
      "   macro avg       0.44      0.44      0.44      2067\n",
      "weighted avg       0.53      0.54      0.54      2067\n",
      "\n"
     ]
    }
   ],
   "source": [
    "\n",
    "\n",
    "# Train-test split\n",
    "X_train, X_test, y_train, y_test = train_test_split(df['cleaned_prompt'], df['label'], test_size=0.2, random_state=42)\n",
    "\n",
    "# Convert text to numerical features using TF-IDF\n",
    "vectorizer = TfidfVectorizer(ngram_range=(1,2), max_features=5000)\n",
    "X_train_tfidf = vectorizer.fit_transform(X_train)\n",
    "X_test_tfidf = vectorizer.transform(X_test)\n",
    "\n",
    "# Apply SMOTE to balance classes\n",
    "smote = SMOTE(random_state=42)\n",
    "X_train_balanced, y_train_balanced = smote.fit_resample(X_train_tfidf, y_train)\n",
    "\n",
    "# **Check class distribution after SMOTE**\n",
    "unique, counts = np.unique(y_train_balanced, return_counts=True)\n",
    "print(\"Class distribution after SMOTE:\", dict(zip(unique, counts)))\n",
    "\n",
    "# Train Random Forest classifier\n",
    "clf = RandomForestClassifier(n_estimators=200, random_state=42)\n",
    "clf.fit(X_train_balanced, y_train_balanced)\n",
    "\n",
    "# Evaluate the model\n",
    "y_pred = clf.predict(X_test_tfidf)\n",
    "print(classification_report(y_test, y_pred, target_names=[\"Low\", \"Medium\", \"High\"]))\n"
   ]
  }
 ],
 "metadata": {
  "kernelspec": {
   "display_name": "cxenv",
   "language": "python",
   "name": "python3"
  },
  "language_info": {
   "codemirror_mode": {
    "name": "ipython",
    "version": 3
   },
   "file_extension": ".py",
   "mimetype": "text/x-python",
   "name": "python",
   "nbconvert_exporter": "python",
   "pygments_lexer": "ipython3",
   "version": "3.9.18"
  }
 },
 "nbformat": 4,
 "nbformat_minor": 2
}
